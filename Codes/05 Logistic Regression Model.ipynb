{
 "cells": [
  {
   "cell_type": "markdown",
   "metadata": {},
   "source": [
    "             "
   ]
  },
  {
   "cell_type": "code",
   "execution_count": 1,
   "metadata": {},
   "outputs": [],
   "source": [
    "import warnings\n",
    "warnings.filterwarnings('ignore')"
   ]
  },
  {
   "cell_type": "markdown",
   "metadata": {},
   "source": [
    "     "
   ]
  },
  {
   "cell_type": "markdown",
   "metadata": {},
   "source": [
    "# <span style=\"color:Maroon\">Case Study: Usage of Data Science in Entertainment Industry.\n",
    "\n",
    "#### <span style=\"color:Green\">Select optimal advetisement to display in break time for a TV Show, based on what was recently shown in the TV"
   ]
  },
  {
   "cell_type": "markdown",
   "metadata": {},
   "source": [
    "## <span style=\"color:Maroon\">Logistic Regression Classifier\n",
    "\n",
    "<span style=\"color:Green\">In statistics, the logistic model is used to model the probability of a certain class or event existing such as pass/fail, win/lose, alive/dead or healthy/sick. This can be extended to model several classes of events such as determining whether an image contains a cat, dog, lion, etc."
   ]
  },
  {
   "cell_type": "markdown",
   "metadata": {},
   "source": [
    "              "
   ]
  },
  {
   "cell_type": "markdown",
   "metadata": {},
   "source": [
    "         "
   ]
  },
  {
   "cell_type": "code",
   "execution_count": 2,
   "metadata": {},
   "outputs": [
    {
     "data": {
      "text/plain": [
       "<pandas._config.config.option_context at 0x1bcdd4cbbc8>"
      ]
     },
     "execution_count": 2,
     "metadata": {},
     "output_type": "execute_result"
    }
   ],
   "source": [
    "# Import required libraries\n",
    "import pandas as pd\n",
    "import numpy as np\n",
    "import os as os\n",
    "np.random.seed(0)\n",
    "pd.option_context('display.max_rows', None, 'display.max_columns', None)"
   ]
  },
  {
   "cell_type": "code",
   "execution_count": 3,
   "metadata": {},
   "outputs": [],
   "source": [
    "# Setting the working directory to the folder\n",
    "direc = os.getcwd()\n",
    "os.chdir(\"..//Data//\")"
   ]
  },
  {
   "cell_type": "code",
   "execution_count": 4,
   "metadata": {},
   "outputs": [],
   "source": [
    "# Read the data in pandas dataframe\n",
    "data = pd.read_csv(\"Dataset.csv\")\n",
    "data = data.fillna(0)"
   ]
  },
  {
   "cell_type": "code",
   "execution_count": 5,
   "metadata": {},
   "outputs": [],
   "source": [
    "# Dependent variable (is given name of target)\n",
    "target = 'h_food_str'\n",
    "# Other dependent variables (These should be dropped from our dataset)\n",
    "dv_list = ['h_alcohol_str', 'h_hot_drink_str', 'h_phone_str']\n",
    "# drop the dv_list from the data (as In future, these labels won't be available to us (dv_list).\n",
    "# Hence, for our modeling purpose, these variables are being dropped from the data.)\n",
    "data = data.drop(dv_list, axis=1)"
   ]
  },
  {
   "cell_type": "code",
   "execution_count": 6,
   "metadata": {},
   "outputs": [
    {
     "data": {
      "text/html": [
       "<div>\n",
       "<style scoped>\n",
       "    .dataframe tbody tr th:only-of-type {\n",
       "        vertical-align: middle;\n",
       "    }\n",
       "\n",
       "    .dataframe tbody tr th {\n",
       "        vertical-align: top;\n",
       "    }\n",
       "\n",
       "    .dataframe thead th {\n",
       "        text-align: right;\n",
       "    }\n",
       "</style>\n",
       "<table border=\"1\" class=\"dataframe\">\n",
       "  <thead>\n",
       "    <tr style=\"text-align: right;\">\n",
       "      <th></th>\n",
       "      <th>show_name</th>\n",
       "      <th>time_offset</th>\n",
       "      <th>r_abies</th>\n",
       "      <th>r_abyssinian</th>\n",
       "      <th>r_accessories</th>\n",
       "      <th>r_accipiter</th>\n",
       "      <th>r_acorn</th>\n",
       "      <th>r_adapter</th>\n",
       "      <th>r_adorable</th>\n",
       "      <th>r_adventure</th>\n",
       "      <th>...</th>\n",
       "      <th>r_zoo</th>\n",
       "      <th>h_food_str</th>\n",
       "      <th>show_name_fresh_meat</th>\n",
       "      <th>show_name_friday_night_dinner</th>\n",
       "      <th>show_name_hollyoaks</th>\n",
       "      <th>show_name_made_in_chelsea</th>\n",
       "      <th>show_name_made_in_chelsea_la</th>\n",
       "      <th>show_name_my_mad_fat_diary</th>\n",
       "      <th>show_name_peep_show</th>\n",
       "      <th>show_name_the_inbetweeners</th>\n",
       "    </tr>\n",
       "  </thead>\n",
       "  <tbody>\n",
       "    <tr>\n",
       "      <th>0</th>\n",
       "      <td>fresh_meat</td>\n",
       "      <td>1</td>\n",
       "      <td>0.0</td>\n",
       "      <td>0.0</td>\n",
       "      <td>0.0</td>\n",
       "      <td>0.0</td>\n",
       "      <td>0.0</td>\n",
       "      <td>0.0</td>\n",
       "      <td>0.0</td>\n",
       "      <td>0.0</td>\n",
       "      <td>...</td>\n",
       "      <td>0.0</td>\n",
       "      <td>0</td>\n",
       "      <td>1</td>\n",
       "      <td>0</td>\n",
       "      <td>0</td>\n",
       "      <td>0</td>\n",
       "      <td>0</td>\n",
       "      <td>0</td>\n",
       "      <td>0</td>\n",
       "      <td>0</td>\n",
       "    </tr>\n",
       "    <tr>\n",
       "      <th>1</th>\n",
       "      <td>fresh_meat</td>\n",
       "      <td>2</td>\n",
       "      <td>0.0</td>\n",
       "      <td>0.0</td>\n",
       "      <td>0.0</td>\n",
       "      <td>0.0</td>\n",
       "      <td>0.0</td>\n",
       "      <td>0.0</td>\n",
       "      <td>0.0</td>\n",
       "      <td>0.0</td>\n",
       "      <td>...</td>\n",
       "      <td>0.0</td>\n",
       "      <td>0</td>\n",
       "      <td>1</td>\n",
       "      <td>0</td>\n",
       "      <td>0</td>\n",
       "      <td>0</td>\n",
       "      <td>0</td>\n",
       "      <td>0</td>\n",
       "      <td>0</td>\n",
       "      <td>0</td>\n",
       "    </tr>\n",
       "    <tr>\n",
       "      <th>2</th>\n",
       "      <td>fresh_meat</td>\n",
       "      <td>3</td>\n",
       "      <td>0.0</td>\n",
       "      <td>0.0</td>\n",
       "      <td>0.0</td>\n",
       "      <td>0.0</td>\n",
       "      <td>0.0</td>\n",
       "      <td>0.0</td>\n",
       "      <td>0.0</td>\n",
       "      <td>0.0</td>\n",
       "      <td>...</td>\n",
       "      <td>0.0</td>\n",
       "      <td>0</td>\n",
       "      <td>1</td>\n",
       "      <td>0</td>\n",
       "      <td>0</td>\n",
       "      <td>0</td>\n",
       "      <td>0</td>\n",
       "      <td>0</td>\n",
       "      <td>0</td>\n",
       "      <td>0</td>\n",
       "    </tr>\n",
       "    <tr>\n",
       "      <th>3</th>\n",
       "      <td>fresh_meat</td>\n",
       "      <td>4</td>\n",
       "      <td>0.0</td>\n",
       "      <td>0.0</td>\n",
       "      <td>0.0</td>\n",
       "      <td>0.0</td>\n",
       "      <td>0.0</td>\n",
       "      <td>0.0</td>\n",
       "      <td>0.0</td>\n",
       "      <td>0.0</td>\n",
       "      <td>...</td>\n",
       "      <td>0.0</td>\n",
       "      <td>0</td>\n",
       "      <td>1</td>\n",
       "      <td>0</td>\n",
       "      <td>0</td>\n",
       "      <td>0</td>\n",
       "      <td>0</td>\n",
       "      <td>0</td>\n",
       "      <td>0</td>\n",
       "      <td>0</td>\n",
       "    </tr>\n",
       "    <tr>\n",
       "      <th>4</th>\n",
       "      <td>fresh_meat</td>\n",
       "      <td>5</td>\n",
       "      <td>0.0</td>\n",
       "      <td>0.0</td>\n",
       "      <td>0.0</td>\n",
       "      <td>0.0</td>\n",
       "      <td>0.0</td>\n",
       "      <td>0.0</td>\n",
       "      <td>0.0</td>\n",
       "      <td>0.0</td>\n",
       "      <td>...</td>\n",
       "      <td>0.0</td>\n",
       "      <td>0</td>\n",
       "      <td>1</td>\n",
       "      <td>0</td>\n",
       "      <td>0</td>\n",
       "      <td>0</td>\n",
       "      <td>0</td>\n",
       "      <td>0</td>\n",
       "      <td>0</td>\n",
       "      <td>0</td>\n",
       "    </tr>\n",
       "  </tbody>\n",
       "</table>\n",
       "<p>5 rows × 1615 columns</p>\n",
       "</div>"
      ],
      "text/plain": [
       "    show_name  time_offset  r_abies  r_abyssinian  r_accessories  r_accipiter  \\\n",
       "0  fresh_meat            1      0.0           0.0            0.0          0.0   \n",
       "1  fresh_meat            2      0.0           0.0            0.0          0.0   \n",
       "2  fresh_meat            3      0.0           0.0            0.0          0.0   \n",
       "3  fresh_meat            4      0.0           0.0            0.0          0.0   \n",
       "4  fresh_meat            5      0.0           0.0            0.0          0.0   \n",
       "\n",
       "   r_acorn  r_adapter  r_adorable  r_adventure  ...  r_zoo  h_food_str  \\\n",
       "0      0.0        0.0         0.0          0.0  ...    0.0           0   \n",
       "1      0.0        0.0         0.0          0.0  ...    0.0           0   \n",
       "2      0.0        0.0         0.0          0.0  ...    0.0           0   \n",
       "3      0.0        0.0         0.0          0.0  ...    0.0           0   \n",
       "4      0.0        0.0         0.0          0.0  ...    0.0           0   \n",
       "\n",
       "   show_name_fresh_meat  show_name_friday_night_dinner  show_name_hollyoaks  \\\n",
       "0                     1                              0                    0   \n",
       "1                     1                              0                    0   \n",
       "2                     1                              0                    0   \n",
       "3                     1                              0                    0   \n",
       "4                     1                              0                    0   \n",
       "\n",
       "   show_name_made_in_chelsea  show_name_made_in_chelsea_la  \\\n",
       "0                          0                             0   \n",
       "1                          0                             0   \n",
       "2                          0                             0   \n",
       "3                          0                             0   \n",
       "4                          0                             0   \n",
       "\n",
       "   show_name_my_mad_fat_diary  show_name_peep_show  show_name_the_inbetweeners  \n",
       "0                           0                    0                           0  \n",
       "1                           0                    0                           0  \n",
       "2                           0                    0                           0  \n",
       "3                           0                    0                           0  \n",
       "4                           0                    0                           0  \n",
       "\n",
       "[5 rows x 1615 columns]"
      ]
     },
     "execution_count": 6,
     "metadata": {},
     "output_type": "execute_result"
    }
   ],
   "source": [
    "# One hot encoding of 'show_name' variable\n",
    "df1 = pd.get_dummies(data['show_name'], prefix = 'show_name')\n",
    "data = data.join(df1)\n",
    "data.head()"
   ]
  },
  {
   "cell_type": "markdown",
   "metadata": {},
   "source": [
    "             "
   ]
  },
  {
   "cell_type": "markdown",
   "metadata": {},
   "source": [
    "              "
   ]
  },
  {
   "cell_type": "markdown",
   "metadata": {},
   "source": [
    "           "
   ]
  },
  {
   "cell_type": "markdown",
   "metadata": {},
   "source": [
    "### <span style=\"color:Maroon\">Train-Test Split\n",
    "<span style=\"color:Green\">Divide the data in 70:30 ratio for training the model and validating the model"
   ]
  },
  {
   "cell_type": "code",
   "execution_count": 7,
   "metadata": {},
   "outputs": [],
   "source": [
    "from sklearn.model_selection import train_test_split"
   ]
  },
  {
   "cell_type": "code",
   "execution_count": 8,
   "metadata": {},
   "outputs": [],
   "source": [
    "# Split the data in train and test\n",
    "X_train, X_test, y_train, y_test = train_test_split(data.drop([target],axis=1), data[target], test_size=0.30, \n",
    "                                                    random_state=12345)"
   ]
  },
  {
   "cell_type": "code",
   "execution_count": 9,
   "metadata": {},
   "outputs": [],
   "source": [
    "y_train = y_train.ravel()\n",
    "y_test = y_test.ravel()"
   ]
  },
  {
   "cell_type": "code",
   "execution_count": 10,
   "metadata": {},
   "outputs": [
    {
     "name": "stdout",
     "output_type": "stream",
     "text": [
      "Train Dependent variable: 8.83\n",
      "Test Dependent variable: 8.85\n"
     ]
    }
   ],
   "source": [
    "# Check if the random samples have similar mean\n",
    "print (f\"Train Dependent variable: {np.round(np.mean(y_train)*100,2)}\")\n",
    "print (f\"Test Dependent variable: {np.round(np.mean(y_test)*100,2)}\")"
   ]
  },
  {
   "cell_type": "markdown",
   "metadata": {},
   "source": [
    "__Comments:__ The means of dependent variable are very similar in test and train dataset"
   ]
  },
  {
   "cell_type": "markdown",
   "metadata": {},
   "source": [
    "### <span style=\"color:Maroon\">Logistic Regression Model"
   ]
  },
  {
   "cell_type": "markdown",
   "metadata": {},
   "source": [
    " "
   ]
  },
  {
   "cell_type": "code",
   "execution_count": 11,
   "metadata": {},
   "outputs": [],
   "source": [
    "# Import required libraries\n",
    "from sklearn import linear_model\n",
    "import scipy.stats as stat\n",
    "import statsmodels.api as sm\n",
    "from sklearn.linear_model import LogisticRegression"
   ]
  },
  {
   "cell_type": "markdown",
   "metadata": {},
   "source": [
    "<span style=\"color:Green\">__To do variable reduction__, we shall start with the all variables:\n",
    "\n",
    "<span style=\"color:Green\">$\\;\\;\\;\\;\\;\\;$Step 1: Variables with __cumulative proportional IV of 0.95__\n",
    "    \n",
    "<span style=\"color:Green\">$\\;\\;\\;\\;\\;\\;$Step 2: Reduce the dimensions using PCA and then recalculate the IV to find relevant variables."
   ]
  },
  {
   "cell_type": "code",
   "execution_count": 12,
   "metadata": {},
   "outputs": [],
   "source": [
    "\"\"\" Logistic Regression with sklearn with p values. The internal sklearn logistic regression model doesnot provide \n",
    "   the p-values\"\"\"\n",
    "\n",
    "class LogisticRegression_with_p_values:\n",
    "    \n",
    "    def __init__(self,*args,**kwargs):\n",
    "        self.model = linear_model.LogisticRegression(*args,**kwargs)\n",
    "        pass\n",
    "\n",
    "    def fit(self,X,y):\n",
    "        self.model.fit(X,y)\n",
    "        denom = (2.0 * (1.0 + np.cosh(self.model.decision_function(X))))\n",
    "        denom = np.tile(denom,(X.shape[1],1)).T\n",
    "        F_ij = np.dot((X / denom).T,X)\n",
    "        Cramer_Rao = np.linalg.inv(F_ij)\n",
    "        sigma_estimates = np.sqrt(np.diagonal(Cramer_Rao))\n",
    "        z_scores = self.model.coef_[0] / sigma_estimates\n",
    "        p_values = [stat.norm.sf(abs(x)) * 2 for x in z_scores]\n",
    "        self.coef_ = self.model.coef_\n",
    "        self.intercept_ = self.model.intercept_\n",
    "        self.p_values = p_values\n",
    "        pass"
   ]
  },
  {
   "cell_type": "code",
   "execution_count": 13,
   "metadata": {},
   "outputs": [],
   "source": [
    "# Use PCA to reduce dimensionality of the data\n",
    "from sklearn.preprocessing import StandardScaler\n",
    "from sklearn.decomposition import PCA\n",
    "from sklearn.metrics import classification_report"
   ]
  },
  {
   "cell_type": "code",
   "execution_count": 14,
   "metadata": {},
   "outputs": [],
   "source": [
    "# Imported from last model (based on Naive model)\n",
    "food_related_vars = ['show_name_fresh_meat', 'r_cafeteria', 'r_meal', 'r_dinner', 'r_supper', 'r_food', 'r_restaurant',\n",
    "                     'r_food_court', 'r_cafe', 'r_plate', 'r_dish', 'show_name_friday_night_dinner',\n",
    "                     'show_name_made_in_chelsea_la', 'r_glass', 'show_name_the_inbetweeners', 'r_hot_pot', 'r_beverage', \n",
    "                     'show_name_hollyoaks', 'r_drink', 'r_eating', 'r_breakfast', 'r_beard', 'r_wine', 'r_goblet', \n",
    "                     'r_pub', 'r_bar_counter', 'r_alcohol', 'r_lunch', 'r_platter', 'r_cup', 'r_apartment', \n",
    "                     'show_name_made_in_chelsea', 'show_name_my_mad_fat_diary', 'r_dining_table', 'r_cookie', 'r_kitchen',\n",
    "                     'r_pantry', 'r_glasses', 'r_oven', 'r_wine_glass']"
   ]
  },
  {
   "cell_type": "code",
   "execution_count": 15,
   "metadata": {},
   "outputs": [],
   "source": [
    "# Standardize the variables with zero mean and unit variance\n",
    "X = X_train[food_related_vars]\n",
    "\n",
    "# Standardizing the features\n",
    "StdSclr = StandardScaler().fit(X)\n",
    "X1 = StdSclr.transform(X)"
   ]
  },
  {
   "cell_type": "code",
   "execution_count": 16,
   "metadata": {},
   "outputs": [],
   "source": [
    "# PCA transformation\n",
    "import matplotlib.pyplot as plt\n",
    "pca = PCA()\n",
    "pcafit = pca.fit(X1)"
   ]
  },
  {
   "cell_type": "code",
   "execution_count": 17,
   "metadata": {},
   "outputs": [],
   "source": [
    "os.chdir(\"..//Images//\")"
   ]
  },
  {
   "cell_type": "code",
   "execution_count": 18,
   "metadata": {},
   "outputs": [
    {
     "data": {
      "image/png": "[encoded data removed]",
      "text/plain": [
       "<Figure size 432x288 with 1 Axes>"
      ]
     },
     "metadata": {
      "needs_background": "light"
     },
     "output_type": "display_data"
    }
   ],
   "source": [
    "# Scree plot\n",
    "variance_explained = pca.explained_variance_ratio_\n",
    "cum_variance_explained = variance_explained.cumsum()\n",
    "no_of_components = np.arange(1,len(cum_variance_explained)+1)\n",
    "plt.plot(no_of_components, cum_variance_explained, 'b.')\n",
    "plt.xlabel(\"No of components\")\n",
    "plt.ylabel(\"Cumulative variance captured\")\n",
    "plt.title(\"Scree Plot for PCA\")\n",
    "plt.savefig(\"PCA_ScreePlot_train.png\")\n",
    "plt.show()"
   ]
  },
  {
   "cell_type": "markdown",
   "metadata": {},
   "source": [
    "<span style=\"color:Blue\">__Comment:__ Top 25-30 components caputre >95% of the dataset variance"
   ]
  },
  {
   "cell_type": "code",
   "execution_count": 19,
   "metadata": {},
   "outputs": [],
   "source": [
    "# Based on scree plot, we see that almost 25-30 PC's will caputre 95% of the variance in the data\n",
    "pca = PCA(0.95)\n",
    "pcafit = pca.fit(X1)\n",
    "pricipalComponents = pcafit.transform(X1)"
   ]
  },
  {
   "cell_type": "code",
   "execution_count": 20,
   "metadata": {},
   "outputs": [
    {
     "data": {
      "text/html": [
       "<div>\n",
       "<style scoped>\n",
       "    .dataframe tbody tr th:only-of-type {\n",
       "        vertical-align: middle;\n",
       "    }\n",
       "\n",
       "    .dataframe tbody tr th {\n",
       "        vertical-align: top;\n",
       "    }\n",
       "\n",
       "    .dataframe thead th {\n",
       "        text-align: right;\n",
       "    }\n",
       "</style>\n",
       "<table border=\"1\" class=\"dataframe\">\n",
       "  <thead>\n",
       "    <tr style=\"text-align: right;\">\n",
       "      <th></th>\n",
       "      <th>PCA_0</th>\n",
       "      <th>PCA_1</th>\n",
       "      <th>PCA_2</th>\n",
       "      <th>PCA_3</th>\n",
       "      <th>PCA_4</th>\n",
       "      <th>PCA_5</th>\n",
       "      <th>PCA_6</th>\n",
       "      <th>PCA_7</th>\n",
       "      <th>PCA_8</th>\n",
       "      <th>PCA_9</th>\n",
       "      <th>...</th>\n",
       "      <th>PCA_18</th>\n",
       "      <th>PCA_19</th>\n",
       "      <th>PCA_20</th>\n",
       "      <th>PCA_21</th>\n",
       "      <th>PCA_22</th>\n",
       "      <th>PCA_23</th>\n",
       "      <th>PCA_24</th>\n",
       "      <th>PCA_25</th>\n",
       "      <th>PCA_26</th>\n",
       "      <th>PCA_27</th>\n",
       "    </tr>\n",
       "  </thead>\n",
       "  <tbody>\n",
       "    <tr>\n",
       "      <th>0</th>\n",
       "      <td>-0.815713</td>\n",
       "      <td>0.116294</td>\n",
       "      <td>-0.255514</td>\n",
       "      <td>-0.150948</td>\n",
       "      <td>0.546745</td>\n",
       "      <td>-0.063195</td>\n",
       "      <td>-1.554669</td>\n",
       "      <td>-0.860160</td>\n",
       "      <td>-0.102172</td>\n",
       "      <td>-0.106118</td>\n",
       "      <td>...</td>\n",
       "      <td>-1.263866</td>\n",
       "      <td>0.316197</td>\n",
       "      <td>0.292678</td>\n",
       "      <td>0.059399</td>\n",
       "      <td>-0.131413</td>\n",
       "      <td>-0.051578</td>\n",
       "      <td>0.253994</td>\n",
       "      <td>-0.152571</td>\n",
       "      <td>0.162377</td>\n",
       "      <td>-0.013724</td>\n",
       "    </tr>\n",
       "    <tr>\n",
       "      <th>1</th>\n",
       "      <td>-0.883071</td>\n",
       "      <td>0.444792</td>\n",
       "      <td>0.025575</td>\n",
       "      <td>-0.212775</td>\n",
       "      <td>-0.017678</td>\n",
       "      <td>-0.466631</td>\n",
       "      <td>-0.070329</td>\n",
       "      <td>0.163309</td>\n",
       "      <td>-0.308609</td>\n",
       "      <td>-1.039853</td>\n",
       "      <td>...</td>\n",
       "      <td>0.101822</td>\n",
       "      <td>0.492615</td>\n",
       "      <td>-0.359974</td>\n",
       "      <td>0.107832</td>\n",
       "      <td>0.087555</td>\n",
       "      <td>0.026761</td>\n",
       "      <td>0.047219</td>\n",
       "      <td>-0.013162</td>\n",
       "      <td>-0.023783</td>\n",
       "      <td>-0.055268</td>\n",
       "    </tr>\n",
       "    <tr>\n",
       "      <th>2</th>\n",
       "      <td>-0.739311</td>\n",
       "      <td>0.097482</td>\n",
       "      <td>-0.316266</td>\n",
       "      <td>0.400310</td>\n",
       "      <td>0.530650</td>\n",
       "      <td>-1.145623</td>\n",
       "      <td>0.677319</td>\n",
       "      <td>0.526697</td>\n",
       "      <td>-0.728674</td>\n",
       "      <td>0.806891</td>\n",
       "      <td>...</td>\n",
       "      <td>-0.335696</td>\n",
       "      <td>0.418086</td>\n",
       "      <td>0.780275</td>\n",
       "      <td>-1.007306</td>\n",
       "      <td>0.148010</td>\n",
       "      <td>-0.025541</td>\n",
       "      <td>0.495970</td>\n",
       "      <td>-0.290328</td>\n",
       "      <td>0.083770</td>\n",
       "      <td>0.018754</td>\n",
       "    </tr>\n",
       "    <tr>\n",
       "      <th>3</th>\n",
       "      <td>-0.883071</td>\n",
       "      <td>0.444792</td>\n",
       "      <td>0.025575</td>\n",
       "      <td>-0.212775</td>\n",
       "      <td>-0.017678</td>\n",
       "      <td>-0.466631</td>\n",
       "      <td>-0.070329</td>\n",
       "      <td>0.163309</td>\n",
       "      <td>-0.308609</td>\n",
       "      <td>-1.039853</td>\n",
       "      <td>...</td>\n",
       "      <td>0.101822</td>\n",
       "      <td>0.492615</td>\n",
       "      <td>-0.359974</td>\n",
       "      <td>0.107832</td>\n",
       "      <td>0.087555</td>\n",
       "      <td>0.026761</td>\n",
       "      <td>0.047219</td>\n",
       "      <td>-0.013162</td>\n",
       "      <td>-0.023783</td>\n",
       "      <td>-0.055268</td>\n",
       "    </tr>\n",
       "    <tr>\n",
       "      <th>4</th>\n",
       "      <td>-0.888543</td>\n",
       "      <td>0.434544</td>\n",
       "      <td>0.370145</td>\n",
       "      <td>-0.461775</td>\n",
       "      <td>-0.322002</td>\n",
       "      <td>0.266839</td>\n",
       "      <td>0.255404</td>\n",
       "      <td>-1.331432</td>\n",
       "      <td>-1.298469</td>\n",
       "      <td>-0.152470</td>\n",
       "      <td>...</td>\n",
       "      <td>0.328649</td>\n",
       "      <td>-0.305219</td>\n",
       "      <td>-0.259553</td>\n",
       "      <td>0.188678</td>\n",
       "      <td>0.038871</td>\n",
       "      <td>0.117907</td>\n",
       "      <td>-0.049202</td>\n",
       "      <td>0.095310</td>\n",
       "      <td>-0.101077</td>\n",
       "      <td>0.214127</td>\n",
       "    </tr>\n",
       "  </tbody>\n",
       "</table>\n",
       "<p>5 rows × 28 columns</p>\n",
       "</div>"
      ],
      "text/plain": [
       "      PCA_0     PCA_1     PCA_2     PCA_3     PCA_4     PCA_5     PCA_6  \\\n",
       "0 -0.815713  0.116294 -0.255514 -0.150948  0.546745 -0.063195 -1.554669   \n",
       "1 -0.883071  0.444792  0.025575 -0.212775 -0.017678 -0.466631 -0.070329   \n",
       "2 -0.739311  0.097482 -0.316266  0.400310  0.530650 -1.145623  0.677319   \n",
       "3 -0.883071  0.444792  0.025575 -0.212775 -0.017678 -0.466631 -0.070329   \n",
       "4 -0.888543  0.434544  0.370145 -0.461775 -0.322002  0.266839  0.255404   \n",
       "\n",
       "      PCA_7     PCA_8     PCA_9  ...    PCA_18    PCA_19    PCA_20    PCA_21  \\\n",
       "0 -0.860160 -0.102172 -0.106118  ... -1.263866  0.316197  0.292678  0.059399   \n",
       "1  0.163309 -0.308609 -1.039853  ...  0.101822  0.492615 -0.359974  0.107832   \n",
       "2  0.526697 -0.728674  0.806891  ... -0.335696  0.418086  0.780275 -1.007306   \n",
       "3  0.163309 -0.308609 -1.039853  ...  0.101822  0.492615 -0.359974  0.107832   \n",
       "4 -1.331432 -1.298469 -0.152470  ...  0.328649 -0.305219 -0.259553  0.188678   \n",
       "\n",
       "     PCA_22    PCA_23    PCA_24    PCA_25    PCA_26    PCA_27  \n",
       "0 -0.131413 -0.051578  0.253994 -0.152571  0.162377 -0.013724  \n",
       "1  0.087555  0.026761  0.047219 -0.013162 -0.023783 -0.055268  \n",
       "2  0.148010 -0.025541  0.495970 -0.290328  0.083770  0.018754  \n",
       "3  0.087555  0.026761  0.047219 -0.013162 -0.023783 -0.055268  \n",
       "4  0.038871  0.117907 -0.049202  0.095310 -0.101077  0.214127  \n",
       "\n",
       "[5 rows x 28 columns]"
      ]
     },
     "execution_count": 20,
     "metadata": {},
     "output_type": "execute_result"
    }
   ],
   "source": [
    "# Convert it to a datafrmae\n",
    "arr = list(np.arange(0,pricipalComponents.shape[1],1))\n",
    "colnames = [(\"PCA_\"+str(ar)) for ar in arr]\n",
    "principalDf_train = pd.DataFrame(data = pricipalComponents, columns = colnames)\n",
    "principalDf_train.head()"
   ]
  },
  {
   "cell_type": "code",
   "execution_count": 21,
   "metadata": {
    "scrolled": false
   },
   "outputs": [
    {
     "data": {
      "text/html": [
       "<div>\n",
       "<style scoped>\n",
       "    .dataframe tbody tr th:only-of-type {\n",
       "        vertical-align: middle;\n",
       "    }\n",
       "\n",
       "    .dataframe tbody tr th {\n",
       "        vertical-align: top;\n",
       "    }\n",
       "\n",
       "    .dataframe thead th {\n",
       "        text-align: right;\n",
       "    }\n",
       "</style>\n",
       "<table border=\"1\" class=\"dataframe\">\n",
       "  <thead>\n",
       "    <tr style=\"text-align: right;\">\n",
       "      <th></th>\n",
       "      <th>PCA_0</th>\n",
       "      <th>PCA_1</th>\n",
       "      <th>PCA_2</th>\n",
       "      <th>PCA_3</th>\n",
       "      <th>PCA_4</th>\n",
       "      <th>PCA_5</th>\n",
       "      <th>PCA_6</th>\n",
       "      <th>PCA_7</th>\n",
       "      <th>PCA_8</th>\n",
       "      <th>PCA_9</th>\n",
       "      <th>...</th>\n",
       "      <th>PCA_18</th>\n",
       "      <th>PCA_19</th>\n",
       "      <th>PCA_20</th>\n",
       "      <th>PCA_21</th>\n",
       "      <th>PCA_22</th>\n",
       "      <th>PCA_23</th>\n",
       "      <th>PCA_24</th>\n",
       "      <th>PCA_25</th>\n",
       "      <th>PCA_26</th>\n",
       "      <th>PCA_27</th>\n",
       "    </tr>\n",
       "  </thead>\n",
       "  <tbody>\n",
       "    <tr>\n",
       "      <th>0</th>\n",
       "      <td>-0.907787</td>\n",
       "      <td>0.377643</td>\n",
       "      <td>0.078355</td>\n",
       "      <td>-0.255249</td>\n",
       "      <td>-0.022553</td>\n",
       "      <td>-0.215828</td>\n",
       "      <td>0.328460</td>\n",
       "      <td>-0.376633</td>\n",
       "      <td>2.092795</td>\n",
       "      <td>0.220593</td>\n",
       "      <td>...</td>\n",
       "      <td>0.094487</td>\n",
       "      <td>-0.030555</td>\n",
       "      <td>-0.032961</td>\n",
       "      <td>-0.064436</td>\n",
       "      <td>0.034206</td>\n",
       "      <td>0.018118</td>\n",
       "      <td>0.129943</td>\n",
       "      <td>-0.005163</td>\n",
       "      <td>0.054254</td>\n",
       "      <td>-0.064347</td>\n",
       "    </tr>\n",
       "    <tr>\n",
       "      <th>1</th>\n",
       "      <td>-0.907787</td>\n",
       "      <td>0.377643</td>\n",
       "      <td>0.078355</td>\n",
       "      <td>-0.255249</td>\n",
       "      <td>-0.022553</td>\n",
       "      <td>-0.215828</td>\n",
       "      <td>0.328460</td>\n",
       "      <td>-0.376633</td>\n",
       "      <td>2.092795</td>\n",
       "      <td>0.220593</td>\n",
       "      <td>...</td>\n",
       "      <td>0.094487</td>\n",
       "      <td>-0.030555</td>\n",
       "      <td>-0.032961</td>\n",
       "      <td>-0.064436</td>\n",
       "      <td>0.034206</td>\n",
       "      <td>0.018118</td>\n",
       "      <td>0.129943</td>\n",
       "      <td>-0.005163</td>\n",
       "      <td>0.054254</td>\n",
       "      <td>-0.064347</td>\n",
       "    </tr>\n",
       "    <tr>\n",
       "      <th>2</th>\n",
       "      <td>2.131467</td>\n",
       "      <td>-3.708705</td>\n",
       "      <td>4.676116</td>\n",
       "      <td>0.340882</td>\n",
       "      <td>1.432543</td>\n",
       "      <td>1.273170</td>\n",
       "      <td>0.646906</td>\n",
       "      <td>-0.015388</td>\n",
       "      <td>0.370775</td>\n",
       "      <td>-1.887765</td>\n",
       "      <td>...</td>\n",
       "      <td>0.314641</td>\n",
       "      <td>0.860838</td>\n",
       "      <td>1.284694</td>\n",
       "      <td>0.184377</td>\n",
       "      <td>0.036401</td>\n",
       "      <td>0.281326</td>\n",
       "      <td>0.471585</td>\n",
       "      <td>0.291982</td>\n",
       "      <td>0.957243</td>\n",
       "      <td>-1.892229</td>\n",
       "    </tr>\n",
       "    <tr>\n",
       "      <th>3</th>\n",
       "      <td>-0.907787</td>\n",
       "      <td>0.377643</td>\n",
       "      <td>0.078355</td>\n",
       "      <td>-0.255249</td>\n",
       "      <td>-0.022553</td>\n",
       "      <td>-0.215828</td>\n",
       "      <td>0.328460</td>\n",
       "      <td>-0.376633</td>\n",
       "      <td>2.092795</td>\n",
       "      <td>0.220593</td>\n",
       "      <td>...</td>\n",
       "      <td>0.094487</td>\n",
       "      <td>-0.030555</td>\n",
       "      <td>-0.032961</td>\n",
       "      <td>-0.064436</td>\n",
       "      <td>0.034206</td>\n",
       "      <td>0.018118</td>\n",
       "      <td>0.129943</td>\n",
       "      <td>-0.005163</td>\n",
       "      <td>0.054254</td>\n",
       "      <td>-0.064347</td>\n",
       "    </tr>\n",
       "    <tr>\n",
       "      <th>4</th>\n",
       "      <td>-0.888543</td>\n",
       "      <td>0.434544</td>\n",
       "      <td>0.370145</td>\n",
       "      <td>-0.461775</td>\n",
       "      <td>-0.322002</td>\n",
       "      <td>0.266839</td>\n",
       "      <td>0.255404</td>\n",
       "      <td>-1.331432</td>\n",
       "      <td>-1.298469</td>\n",
       "      <td>-0.152470</td>\n",
       "      <td>...</td>\n",
       "      <td>0.328649</td>\n",
       "      <td>-0.305219</td>\n",
       "      <td>-0.259553</td>\n",
       "      <td>0.188678</td>\n",
       "      <td>0.038871</td>\n",
       "      <td>0.117907</td>\n",
       "      <td>-0.049202</td>\n",
       "      <td>0.095310</td>\n",
       "      <td>-0.101077</td>\n",
       "      <td>0.214127</td>\n",
       "    </tr>\n",
       "  </tbody>\n",
       "</table>\n",
       "<p>5 rows × 28 columns</p>\n",
       "</div>"
      ],
      "text/plain": [
       "      PCA_0     PCA_1     PCA_2     PCA_3     PCA_4     PCA_5     PCA_6  \\\n",
       "0 -0.907787  0.377643  0.078355 -0.255249 -0.022553 -0.215828  0.328460   \n",
       "1 -0.907787  0.377643  0.078355 -0.255249 -0.022553 -0.215828  0.328460   \n",
       "2  2.131467 -3.708705  4.676116  0.340882  1.432543  1.273170  0.646906   \n",
       "3 -0.907787  0.377643  0.078355 -0.255249 -0.022553 -0.215828  0.328460   \n",
       "4 -0.888543  0.434544  0.370145 -0.461775 -0.322002  0.266839  0.255404   \n",
       "\n",
       "      PCA_7     PCA_8     PCA_9  ...    PCA_18    PCA_19    PCA_20    PCA_21  \\\n",
       "0 -0.376633  2.092795  0.220593  ...  0.094487 -0.030555 -0.032961 -0.064436   \n",
       "1 -0.376633  2.092795  0.220593  ...  0.094487 -0.030555 -0.032961 -0.064436   \n",
       "2 -0.015388  0.370775 -1.887765  ...  0.314641  0.860838  1.284694  0.184377   \n",
       "3 -0.376633  2.092795  0.220593  ...  0.094487 -0.030555 -0.032961 -0.064436   \n",
       "4 -1.331432 -1.298469 -0.152470  ...  0.328649 -0.305219 -0.259553  0.188678   \n",
       "\n",
       "     PCA_22    PCA_23    PCA_24    PCA_25    PCA_26    PCA_27  \n",
       "0  0.034206  0.018118  0.129943 -0.005163  0.054254 -0.064347  \n",
       "1  0.034206  0.018118  0.129943 -0.005163  0.054254 -0.064347  \n",
       "2  0.036401  0.281326  0.471585  0.291982  0.957243 -1.892229  \n",
       "3  0.034206  0.018118  0.129943 -0.005163  0.054254 -0.064347  \n",
       "4  0.038871  0.117907 -0.049202  0.095310 -0.101077  0.214127  \n",
       "\n",
       "[5 rows x 28 columns]"
      ]
     },
     "execution_count": 21,
     "metadata": {},
     "output_type": "execute_result"
    }
   ],
   "source": [
    "# Do the conversion for test dataste as well\n",
    "Xtest = StdSclr.transform(X_test[food_related_vars])\n",
    "pricipalComponents = pcafit.transform(Xtest)\n",
    "arr = list(np.arange(0,pricipalComponents.shape[1],1))\n",
    "colnames = [(\"PCA_\"+str(ar)) for ar in arr]\n",
    "principalDf_test = pd.DataFrame(data = pricipalComponents, columns = colnames)\n",
    "principalDf_test.head()"
   ]
  },
  {
   "cell_type": "markdown",
   "metadata": {},
   "source": [
    "##### <span style=\"color:Maroon\">Recursive Feature selection method:\n",
    "<span style=\"color:Green\">Given an external estimator that assigns weights to features (e.g., the coefficients of a linear model), recursive feature elimination (RFE) is to select features by recursively considering smaller and smaller sets of features. First, the estimator is trained on the initial set of features and the importance of each feature is obtained either through a coef_ attribute or through a feature_importances_ attribute. Then, the least important features are pruned from current set of features.That procedure is recursively repeated on the pruned set until the desired number of features to select is eventually reached.\n",
    "\n",
    "<span style=\"color:Green\">$\\;\\;\\;\\;\\;\\;$1. RFECV performs RFE in a cross-validation loop to find the optimal number of features.\n",
    "    \n",
    "<span style=\"color:Green\">$\\;\\;\\;\\;\\;\\;$2. For more information, please refer the below link: https://scikit-learn.org/stable/modules/feature_selection.html#rfe"
   ]
  },
  {
   "cell_type": "code",
   "execution_count": 22,
   "metadata": {},
   "outputs": [],
   "source": [
    "# Recursive Feature Selection method\n",
    "from sklearn.feature_selection import RFE\n",
    "logreg = LogisticRegression(solver='lbfgs')\n",
    "rfe = RFE(logreg, 50)\n",
    "rfe = rfe.fit(principalDf_train, y_train)"
   ]
  },
  {
   "cell_type": "code",
   "execution_count": 23,
   "metadata": {},
   "outputs": [
    {
     "name": "stdout",
     "output_type": "stream",
     "text": [
      "[ True  True  True  True  True  True  True  True  True  True  True  True\n",
      "  True  True  True  True  True  True  True  True  True  True  True  True\n",
      "  True  True  True  True]\n",
      "[1 1 1 1 1 1 1 1 1 1 1 1 1 1 1 1 1 1 1 1 1 1 1 1 1 1 1 1]\n"
     ]
    }
   ],
   "source": [
    "print(rfe.support_)\n",
    "print(rfe.ranking_)"
   ]
  },
  {
   "cell_type": "code",
   "execution_count": 24,
   "metadata": {},
   "outputs": [
    {
     "name": "stdout",
     "output_type": "stream",
     "text": [
      "28  variables were selected\n"
     ]
    }
   ],
   "source": [
    "rfe_varred = pd.DataFrame(principalDf_train.columns)\n",
    "rfe_varred.columns = [\"variables\"]\n",
    "rfe_varred[\"support\"] = rfe.support_\n",
    "sel_vars = list(rfe_varred[rfe_varred[\"support\"]==True][\"variables\"])\n",
    "print(len(sel_vars), \" variables were selected\")"
   ]
  },
  {
   "cell_type": "code",
   "execution_count": 25,
   "metadata": {},
   "outputs": [],
   "source": [
    "# Fitting a regression model\n",
    "# Fit the model on the train sample\n",
    "reg = LogisticRegression_with_p_values()\n",
    "reg.fit(principalDf_train[sel_vars], y_train)"
   ]
  },
  {
   "cell_type": "code",
   "execution_count": 26,
   "metadata": {},
   "outputs": [
    {
     "name": "stdout",
     "output_type": "stream",
     "text": [
      "   Feature name  Coefficients       p_values\n",
      "0     Intercept     -4.989078            NaN\n",
      "1         PCA_0      0.466568  2.873571e-216\n",
      "2         PCA_1      0.073561   1.647844e-03\n",
      "3         PCA_2     -0.158645   5.258805e-09\n",
      "4         PCA_3      0.488165   3.477604e-89\n",
      "5         PCA_4     -0.105058   1.012420e-02\n",
      "6         PCA_5     -0.092215   7.248815e-03\n",
      "7         PCA_6      0.044566   6.388962e-01\n",
      "8         PCA_7      0.937391   2.823230e-64\n",
      "9         PCA_8     -2.753777   7.510280e-74\n",
      "10        PCA_9      0.197894   7.218215e-06\n",
      "11       PCA_10     -0.350748   1.495908e-07\n",
      "12       PCA_11     -0.109167   1.525045e-01\n",
      "13       PCA_12     -0.805697  2.126174e-106\n",
      "14       PCA_13      0.069196   5.322245e-01\n",
      "15       PCA_14      0.970787   1.686582e-57\n",
      "16       PCA_15     -0.074162   2.621501e-01\n",
      "17       PCA_16      0.381316   1.432636e-18\n",
      "18       PCA_17     -0.525572   8.739105e-24\n",
      "19       PCA_18      0.149188   4.340545e-02\n",
      "20       PCA_19     -0.242152   8.054731e-09\n",
      "21       PCA_20      0.713422   2.331158e-60\n",
      "22       PCA_21     -0.307775   1.777706e-16\n",
      "23       PCA_22     -0.040842   2.642790e-01\n",
      "24       PCA_23     -0.102243   7.549356e-03\n",
      "25       PCA_24      0.014961   7.134322e-01\n",
      "26       PCA_25     -0.135272   1.830103e-03\n",
      "27       PCA_26      0.057038   2.317343e-01\n",
      "28       PCA_27      0.054240   2.409295e-01\n"
     ]
    }
   ],
   "source": [
    "# Estimate table, with p-values\n",
    "feature_name = principalDf_train[sel_vars].columns.values\n",
    "summary_table = pd.DataFrame(columns = ['Feature name'], data = feature_name)\n",
    "summary_table['Coefficients'] = np.transpose(reg.coef_)\n",
    "summary_table.index = summary_table.index + 1\n",
    "summary_table.loc[0] = ['Intercept', reg.intercept_[0]]\n",
    "summary_table = summary_table.sort_index()\n",
    "p_values = reg.p_values\n",
    "p_values = np.append(np.nan, np.array(p_values))\n",
    "summary_table['p_values'] = p_values\n",
    "print(summary_table)"
   ]
  },
  {
   "cell_type": "markdown",
   "metadata": {},
   "source": [
    "All variables are statistically significant."
   ]
  },
  {
   "cell_type": "code",
   "execution_count": 27,
   "metadata": {},
   "outputs": [],
   "source": [
    "# Predict probabilities for training sample\n",
    "y_hat = reg.model.predict_proba(principalDf_train[sel_vars])"
   ]
  },
  {
   "cell_type": "code",
   "execution_count": 28,
   "metadata": {},
   "outputs": [
    {
     "data": {
      "image/png": "[encoded data removed]",
      "text/plain": [
       "<Figure size 576x360 with 1 Axes>"
      ]
     },
     "metadata": {
      "needs_background": "light"
     },
     "output_type": "display_data"
    }
   ],
   "source": [
    "# Plot precision, recall and F1 score for train sample (Logistic)\n",
    "from sklearn import metrics\n",
    "precision, recall, threshold = metrics.precision_recall_curve(y_train, y_hat[:,1])\n",
    "f1_score = 2*precision*recall/(precision + recall)\n",
    "threshold = np.hstack((0, threshold))\n",
    "plt.figure(figsize=(8,5))\n",
    "plt.plot(threshold, precision)\n",
    "plt.plot(threshold, recall)\n",
    "plt.plot(threshold, f1_score)\n",
    "plt.xlabel('threshold', fontsize=14)\n",
    "plt.title(\"Train Sample\", fontsize=18)\n",
    "plt.legend(['precision', 'recall', '$F_1$'])\n",
    "plt.savefig(\"Train_Logistic_Precision_Recall_F1.png\")\n",
    "plt.show()"
   ]
  },
  {
   "cell_type": "markdown",
   "metadata": {},
   "source": [
    "             "
   ]
  },
  {
   "cell_type": "markdown",
   "metadata": {},
   "source": [
    "##### <span style=\"color:Maroon\">Propensity Threshold selection to tag class as '1' or '0'\n",
    "<span style=\"color:Green\">To identify the threshold (on model propensity output) to tag class as '1' or '0', we shall use the ROC curve. ROC curve is drawn by using FPR as x-axis and TPR as y-axis. Since TPR is equivalent to sensitivity and FPR is equal to 1 − specificity, the ROC graph is sometimes called the sensitivity vs (1 − specificity) plot. For more details please refer the below link: https://en.wikipedia.org/wiki/Receiver_operating_characteristic"
   ]
  },
  {
   "cell_type": "code",
   "execution_count": 29,
   "metadata": {},
   "outputs": [],
   "source": [
    "# Find the optimum threshold on propensity to tag class as 1 or 0\n",
    "fpr, tpr, thresholds = metrics.roc_curve(y_train, y_hat[:,1])"
   ]
  },
  {
   "cell_type": "code",
   "execution_count": 30,
   "metadata": {},
   "outputs": [
    {
     "data": {
      "image/png": "[encoded data removed]",
      "text/plain": [
       "<Figure size 576x360 with 1 Axes>"
      ]
     },
     "metadata": {
      "needs_background": "light"
     },
     "output_type": "display_data"
    }
   ],
   "source": [
    "plt.figure(figsize=(8,5))\n",
    "plt.plot(fpr, tpr, 'b-')\n",
    "plt.xlabel(\"1 - Specificity (FPR)\", fontsize=14)\n",
    "plt.ylabel(\"Sensitivity (TPR)\", fontsize=14)\n",
    "plt.title(\"ROC Curve\", fontsize=18)\n",
    "plt.savefig(\"Logistic_ROC_curve.png\")\n",
    "plt.show()"
   ]
  },
  {
   "cell_type": "code",
   "execution_count": 31,
   "metadata": {},
   "outputs": [
    {
     "name": "stdout",
     "output_type": "stream",
     "text": [
      "+++++++++++++++++++++++++++++++++++++++++++++++++++++\n",
      "\n",
      "Performance Metrics for Training Sample\n",
      "              precision    recall  f1-score   support\n",
      "\n",
      "           0       0.99      0.81      0.89     10573\n",
      "           1       0.32      0.92      0.47      1024\n",
      "\n",
      "    accuracy                           0.82     11597\n",
      "   macro avg       0.65      0.86      0.68     11597\n",
      "weighted avg       0.93      0.82      0.85     11597\n",
      "\n",
      "+++++++++++++++++++++++++++++++++++++++++++++++++++++\n",
      "\n",
      "Confusion Matrix\n",
      "\n",
      "Predicted     0     1\n",
      "Actual               \n",
      "0          8568  2005\n",
      "1            84   940\n"
     ]
    }
   ],
   "source": [
    "y_hat = reg.model.predict_proba(principalDf_train[sel_vars])\n",
    "y_train_out = np.where(y_hat[:,1] > thresholds[np.argmax(tpr - fpr)],1,0)\n",
    "# Performance metrics of the model\n",
    "\n",
    "print(\"+++++++++++++++++++++++++++++++++++++++++++++++++++++\\n\")\n",
    "print(\"Performance Metrics for Training Sample\")\n",
    "print(classification_report(y_train, y_train_out))\n",
    "\n",
    "tmp = pd.DataFrame(y_train, columns=[\"Actual\"])\n",
    "tmp[\"Predicted\"] = y_train_out\n",
    "print(\"+++++++++++++++++++++++++++++++++++++++++++++++++++++\")\n",
    "print(\"\\nConfusion Matrix\\n\")\n",
    "print(pd.crosstab(tmp[\"Actual\"],tmp[\"Predicted\"]))"
   ]
  },
  {
   "cell_type": "code",
   "execution_count": 32,
   "metadata": {},
   "outputs": [
    {
     "name": "stdout",
     "output_type": "stream",
     "text": [
      "+++++++++++++++++++++++++++++++++++++++++++++++++++++\n",
      "\n",
      "Performance Metrics for Test Sample\n",
      "              precision    recall  f1-score   support\n",
      "\n",
      "           0       0.99      0.82      0.90      4531\n",
      "           1       0.33      0.92      0.48       440\n",
      "\n",
      "    accuracy                           0.83      4971\n",
      "   macro avg       0.66      0.87      0.69      4971\n",
      "weighted avg       0.93      0.83      0.86      4971\n",
      "\n",
      "+++++++++++++++++++++++++++++++++++++++++++++++++++++\n",
      "\n",
      "Confusion Matrix\n",
      "\n",
      "Predicted     0    1\n",
      "Actual              \n",
      "0          3711  820\n",
      "1            37  403\n"
     ]
    }
   ],
   "source": [
    "y_hat = reg.model.predict_proba(principalDf_test[sel_vars])\n",
    "y_test_out = np.where(y_hat[:,1] > thresholds[np.argmax(tpr - fpr)],1,0)\n",
    "# Performance metrics of the model\n",
    "\n",
    "print(\"+++++++++++++++++++++++++++++++++++++++++++++++++++++\\n\")\n",
    "print(\"Performance Metrics for Test Sample\")\n",
    "print(classification_report(y_test, y_test_out))\n",
    "\n",
    "tmp = pd.DataFrame(y_test, columns=[\"Actual\"])\n",
    "tmp[\"Predicted\"] = y_test_out\n",
    "print(\"+++++++++++++++++++++++++++++++++++++++++++++++++++++\")\n",
    "print(\"\\nConfusion Matrix\\n\")\n",
    "print(pd.crosstab(tmp[\"Actual\"],tmp[\"Predicted\"]))"
   ]
  },
  {
   "cell_type": "markdown",
   "metadata": {},
   "source": [
    "<span style=\"color:Blue\">__Comments:__ The logistic model based on priciple components performs better than the both Naive Models on all metrics (Accuracy, recall, precision and F1-score)"
   ]
  },
  {
   "cell_type": "markdown",
   "metadata": {},
   "source": [
    "              "
   ]
  },
  {
   "cell_type": "markdown",
   "metadata": {},
   "source": [
    "               "
   ]
  },
  {
   "cell_type": "markdown",
   "metadata": {},
   "source": [
    "                "
   ]
  }
 ],
 "metadata": {
  "kernelspec": {
   "display_name": "Python 3",
   "language": "python",
   "name": "python3"
  },
  "language_info": {
   "codemirror_mode": {
    "name": "ipython",
    "version": 3
   },
   "file_extension": ".py",
   "mimetype": "text/x-python",
   "name": "python",
   "nbconvert_exporter": "python",
   "pygments_lexer": "ipython3",
   "version": "3.7.6"
  }
 },
 "nbformat": 4,
 "nbformat_minor": 2
}

{
 "cells": [
  {
   "cell_type": "markdown",
   "metadata": {},
   "source": [
    "             "
   ]
  },
  {
   "cell_type": "code",
   "execution_count": 1,
   "metadata": {},
   "outputs": [],
   "source": [
    "import warnings\n",
    "warnings.filterwarnings('ignore')"
   ]
  },
  {
   "cell_type": "markdown",
   "metadata": {},
   "source": [
    "     "
   ]
  },
  {
   "cell_type": "markdown",
   "metadata": {},
   "source": [
    "# <span style=\"color:Maroon\">Case Study: Usage of Data Science in Entertainment Industry.\n",
    "\n",
    "#### <span style=\"color:Green\">Select optimal advetisement to display in break time for a TV Show, based on what was recently shown in the TV"
   ]
  },
  {
   "cell_type": "markdown",
   "metadata": {},
   "source": [
    "## <span style=\"color:Maroon\">Gradient Boosting Classifier\n",
    "\n",
    "<span style=\"color:Green\">Gradient boosting is a machine learning technique for regression and classification problems, which produces a prediction model in the form of an ensemble of weak prediction models, typically decision trees.(source: Wikipedia). Hyper-parameters to be tuned in Gradient Boosting model are:\n",
    "    \n",
    "<span style=\"color:Green\">$\\;\\;\\;\\;\\;\\;$1. n_estimators: number of trees in the foreset\n",
    "    \n",
    "<span style=\"color:Green\">$\\;\\;\\;\\;\\;\\;$2. learning_rate: This determines the impact of each tree on the final outcome. GBM works by starting with an initial estimate which is updated using the output of each tree. The learning parameter controls the magnitude of this change in the estimates\n",
    "    \n",
    "<span style=\"color:Green\">$\\;\\;\\;\\;\\;\\;$3. subsample: The fraction of observations to be selected for each tree. Selection is done by random sampling\n",
    "    \n",
    "<span style=\"color:Green\">$\\;\\;\\;\\;\\;\\;$4. loss: It refers to the loss function to be minimized in each split.\n",
    "    \n",
    "<span style=\"color:Green\">$\\;\\;\\;\\;\\;\\;$5. max_features: max number of features considered for splitting a node\n",
    "    \n",
    "<span style=\"color:Green\">$\\;\\;\\;\\;\\;\\;$6. max_depth: max number of levels in each decision tree\n",
    "    \n",
    "<span style=\"color:Green\">$\\;\\;\\;\\;\\;\\;$7. min_samples_split: min number of data points placed in a node before the node is split\n",
    "    \n",
    "<span style=\"color:Green\">$\\;\\;\\;\\;\\;\\;$8. min_samples_leaf: min number of data points allowed in a leaf node"
   ]
  },
  {
   "cell_type": "markdown",
   "metadata": {},
   "source": [
    "              "
   ]
  },
  {
   "cell_type": "markdown",
   "metadata": {},
   "source": [
    "         "
   ]
  },
  {
   "cell_type": "code",
   "execution_count": 2,
   "metadata": {},
   "outputs": [
    {
     "data": {
      "text/plain": [
       "<pandas._config.config.option_context at 0x24ddc5c4d88>"
      ]
     },
     "execution_count": 2,
     "metadata": {},
     "output_type": "execute_result"
    }
   ],
   "source": [
    "# Import required libraries\n",
    "import pandas as pd\n",
    "import numpy as np\n",
    "import os as os\n",
    "np.random.seed(0)\n",
    "pd.option_context('display.max_rows', None, 'display.max_columns', None)"
   ]
  },
  {
   "cell_type": "code",
   "execution_count": 3,
   "metadata": {},
   "outputs": [],
   "source": [
    "# Setting the working directory to the folder\n",
    "direc = os.getcwd()\n",
    "os.chdir(\"..//Data//\")"
   ]
  },
  {
   "cell_type": "code",
   "execution_count": 4,
   "metadata": {},
   "outputs": [],
   "source": [
    "# Read the data in pandas dataframe\n",
    "data = pd.read_csv(\"Dataset.csv\")\n",
    "data = data.fillna(0)"
   ]
  },
  {
   "cell_type": "code",
   "execution_count": 5,
   "metadata": {},
   "outputs": [],
   "source": [
    "# Dependent variable (is given name of target)\n",
    "target = 'h_food_str'\n",
    "# Other dependent variables (These should be dropped from our dataset)\n",
    "dv_list = ['h_alcohol_str', 'h_hot_drink_str', 'h_phone_str']\n",
    "# drop the dv_list from the data (as In future, these labels won't be available to us (dv_list).\n",
    "# Hence, for our modeling purpose, these variables are being dropped from the data.)\n",
    "data = data.drop(dv_list, axis=1)"
   ]
  },
  {
   "cell_type": "code",
   "execution_count": 6,
   "metadata": {},
   "outputs": [
    {
     "data": {
      "text/html": [
       "<div>\n",
       "<style scoped>\n",
       "    .dataframe tbody tr th:only-of-type {\n",
       "        vertical-align: middle;\n",
       "    }\n",
       "\n",
       "    .dataframe tbody tr th {\n",
       "        vertical-align: top;\n",
       "    }\n",
       "\n",
       "    .dataframe thead th {\n",
       "        text-align: right;\n",
       "    }\n",
       "</style>\n",
       "<table border=\"1\" class=\"dataframe\">\n",
       "  <thead>\n",
       "    <tr style=\"text-align: right;\">\n",
       "      <th></th>\n",
       "      <th>show_name</th>\n",
       "      <th>time_offset</th>\n",
       "      <th>r_abies</th>\n",
       "      <th>r_abyssinian</th>\n",
       "      <th>r_accessories</th>\n",
       "      <th>r_accipiter</th>\n",
       "      <th>r_acorn</th>\n",
       "      <th>r_adapter</th>\n",
       "      <th>r_adorable</th>\n",
       "      <th>r_adventure</th>\n",
       "      <th>...</th>\n",
       "      <th>r_zoo</th>\n",
       "      <th>h_food_str</th>\n",
       "      <th>show_name_fresh_meat</th>\n",
       "      <th>show_name_friday_night_dinner</th>\n",
       "      <th>show_name_hollyoaks</th>\n",
       "      <th>show_name_made_in_chelsea</th>\n",
       "      <th>show_name_made_in_chelsea_la</th>\n",
       "      <th>show_name_my_mad_fat_diary</th>\n",
       "      <th>show_name_peep_show</th>\n",
       "      <th>show_name_the_inbetweeners</th>\n",
       "    </tr>\n",
       "  </thead>\n",
       "  <tbody>\n",
       "    <tr>\n",
       "      <th>0</th>\n",
       "      <td>fresh_meat</td>\n",
       "      <td>1</td>\n",
       "      <td>0.0</td>\n",
       "      <td>0.0</td>\n",
       "      <td>0.0</td>\n",
       "      <td>0.0</td>\n",
       "      <td>0.0</td>\n",
       "      <td>0.0</td>\n",
       "      <td>0.0</td>\n",
       "      <td>0.0</td>\n",
       "      <td>...</td>\n",
       "      <td>0.0</td>\n",
       "      <td>0</td>\n",
       "      <td>1</td>\n",
       "      <td>0</td>\n",
       "      <td>0</td>\n",
       "      <td>0</td>\n",
       "      <td>0</td>\n",
       "      <td>0</td>\n",
       "      <td>0</td>\n",
       "      <td>0</td>\n",
       "    </tr>\n",
       "    <tr>\n",
       "      <th>1</th>\n",
       "      <td>fresh_meat</td>\n",
       "      <td>2</td>\n",
       "      <td>0.0</td>\n",
       "      <td>0.0</td>\n",
       "      <td>0.0</td>\n",
       "      <td>0.0</td>\n",
       "      <td>0.0</td>\n",
       "      <td>0.0</td>\n",
       "      <td>0.0</td>\n",
       "      <td>0.0</td>\n",
       "      <td>...</td>\n",
       "      <td>0.0</td>\n",
       "      <td>0</td>\n",
       "      <td>1</td>\n",
       "      <td>0</td>\n",
       "      <td>0</td>\n",
       "      <td>0</td>\n",
       "      <td>0</td>\n",
       "      <td>0</td>\n",
       "      <td>0</td>\n",
       "      <td>0</td>\n",
       "    </tr>\n",
       "    <tr>\n",
       "      <th>2</th>\n",
       "      <td>fresh_meat</td>\n",
       "      <td>3</td>\n",
       "      <td>0.0</td>\n",
       "      <td>0.0</td>\n",
       "      <td>0.0</td>\n",
       "      <td>0.0</td>\n",
       "      <td>0.0</td>\n",
       "      <td>0.0</td>\n",
       "      <td>0.0</td>\n",
       "      <td>0.0</td>\n",
       "      <td>...</td>\n",
       "      <td>0.0</td>\n",
       "      <td>0</td>\n",
       "      <td>1</td>\n",
       "      <td>0</td>\n",
       "      <td>0</td>\n",
       "      <td>0</td>\n",
       "      <td>0</td>\n",
       "      <td>0</td>\n",
       "      <td>0</td>\n",
       "      <td>0</td>\n",
       "    </tr>\n",
       "    <tr>\n",
       "      <th>3</th>\n",
       "      <td>fresh_meat</td>\n",
       "      <td>4</td>\n",
       "      <td>0.0</td>\n",
       "      <td>0.0</td>\n",
       "      <td>0.0</td>\n",
       "      <td>0.0</td>\n",
       "      <td>0.0</td>\n",
       "      <td>0.0</td>\n",
       "      <td>0.0</td>\n",
       "      <td>0.0</td>\n",
       "      <td>...</td>\n",
       "      <td>0.0</td>\n",
       "      <td>0</td>\n",
       "      <td>1</td>\n",
       "      <td>0</td>\n",
       "      <td>0</td>\n",
       "      <td>0</td>\n",
       "      <td>0</td>\n",
       "      <td>0</td>\n",
       "      <td>0</td>\n",
       "      <td>0</td>\n",
       "    </tr>\n",
       "    <tr>\n",
       "      <th>4</th>\n",
       "      <td>fresh_meat</td>\n",
       "      <td>5</td>\n",
       "      <td>0.0</td>\n",
       "      <td>0.0</td>\n",
       "      <td>0.0</td>\n",
       "      <td>0.0</td>\n",
       "      <td>0.0</td>\n",
       "      <td>0.0</td>\n",
       "      <td>0.0</td>\n",
       "      <td>0.0</td>\n",
       "      <td>...</td>\n",
       "      <td>0.0</td>\n",
       "      <td>0</td>\n",
       "      <td>1</td>\n",
       "      <td>0</td>\n",
       "      <td>0</td>\n",
       "      <td>0</td>\n",
       "      <td>0</td>\n",
       "      <td>0</td>\n",
       "      <td>0</td>\n",
       "      <td>0</td>\n",
       "    </tr>\n",
       "  </tbody>\n",
       "</table>\n",
       "<p>5 rows × 1615 columns</p>\n",
       "</div>"
      ],
      "text/plain": [
       "    show_name  time_offset  r_abies  r_abyssinian  r_accessories  r_accipiter  \\\n",
       "0  fresh_meat            1      0.0           0.0            0.0          0.0   \n",
       "1  fresh_meat            2      0.0           0.0            0.0          0.0   \n",
       "2  fresh_meat            3      0.0           0.0            0.0          0.0   \n",
       "3  fresh_meat            4      0.0           0.0            0.0          0.0   \n",
       "4  fresh_meat            5      0.0           0.0            0.0          0.0   \n",
       "\n",
       "   r_acorn  r_adapter  r_adorable  r_adventure  ...  r_zoo  h_food_str  \\\n",
       "0      0.0        0.0         0.0          0.0  ...    0.0           0   \n",
       "1      0.0        0.0         0.0          0.0  ...    0.0           0   \n",
       "2      0.0        0.0         0.0          0.0  ...    0.0           0   \n",
       "3      0.0        0.0         0.0          0.0  ...    0.0           0   \n",
       "4      0.0        0.0         0.0          0.0  ...    0.0           0   \n",
       "\n",
       "   show_name_fresh_meat  show_name_friday_night_dinner  show_name_hollyoaks  \\\n",
       "0                     1                              0                    0   \n",
       "1                     1                              0                    0   \n",
       "2                     1                              0                    0   \n",
       "3                     1                              0                    0   \n",
       "4                     1                              0                    0   \n",
       "\n",
       "   show_name_made_in_chelsea  show_name_made_in_chelsea_la  \\\n",
       "0                          0                             0   \n",
       "1                          0                             0   \n",
       "2                          0                             0   \n",
       "3                          0                             0   \n",
       "4                          0                             0   \n",
       "\n",
       "   show_name_my_mad_fat_diary  show_name_peep_show  show_name_the_inbetweeners  \n",
       "0                           0                    0                           0  \n",
       "1                           0                    0                           0  \n",
       "2                           0                    0                           0  \n",
       "3                           0                    0                           0  \n",
       "4                           0                    0                           0  \n",
       "\n",
       "[5 rows x 1615 columns]"
      ]
     },
     "execution_count": 6,
     "metadata": {},
     "output_type": "execute_result"
    }
   ],
   "source": [
    "# One hot encoding of 'show_name' variable\n",
    "df1 = pd.get_dummies(data['show_name'], prefix = 'show_name')\n",
    "data = data.join(df1)\n",
    "data.head()"
   ]
  },
  {
   "cell_type": "markdown",
   "metadata": {},
   "source": [
    "             "
   ]
  },
  {
   "cell_type": "markdown",
   "metadata": {},
   "source": [
    "              "
   ]
  },
  {
   "cell_type": "markdown",
   "metadata": {},
   "source": [
    "           "
   ]
  },
  {
   "cell_type": "markdown",
   "metadata": {},
   "source": [
    "### <span style=\"color:Maroon\">Train-Test Split\n",
    "<span style=\"color:Green\">Divide the data in 70:30 ratio for training the model and validating the model"
   ]
  },
  {
   "cell_type": "code",
   "execution_count": 7,
   "metadata": {},
   "outputs": [],
   "source": [
    "from sklearn.model_selection import train_test_split"
   ]
  },
  {
   "cell_type": "code",
   "execution_count": 8,
   "metadata": {},
   "outputs": [],
   "source": [
    "# Split the data in train and test\n",
    "X_train, X_test, y_train, y_test = train_test_split(data.drop([target],axis=1), data[target], test_size=0.30, \n",
    "                                                    random_state=12345)"
   ]
  },
  {
   "cell_type": "code",
   "execution_count": 9,
   "metadata": {},
   "outputs": [],
   "source": [
    "y_train = y_train.ravel()\n",
    "y_test = y_test.ravel()"
   ]
  },
  {
   "cell_type": "code",
   "execution_count": 10,
   "metadata": {},
   "outputs": [
    {
     "name": "stdout",
     "output_type": "stream",
     "text": [
      "Train Dependent variable: 8.83\n",
      "Test Dependent variable: 8.85\n"
     ]
    }
   ],
   "source": [
    "# Check if the random samples have similar mean\n",
    "print (f\"Train Dependent variable: {np.round(np.mean(y_train)*100,2)}\")\n",
    "print (f\"Test Dependent variable: {np.round(np.mean(y_test)*100,2)}\")"
   ]
  },
  {
   "cell_type": "markdown",
   "metadata": {},
   "source": [
    "<span style=\"color:Blue\">__Comments:__ The means of dependent variable are very similar in test and train dataset"
   ]
  },
  {
   "cell_type": "markdown",
   "metadata": {},
   "source": [
    "    "
   ]
  },
  {
   "cell_type": "code",
   "execution_count": 11,
   "metadata": {},
   "outputs": [],
   "source": [
    "from sklearn.model_selection import GridSearchCV\n",
    "from sklearn.metrics import classification_report"
   ]
  },
  {
   "cell_type": "markdown",
   "metadata": {},
   "source": [
    "               "
   ]
  },
  {
   "cell_type": "markdown",
   "metadata": {},
   "source": [
    "### <span style=\"color:Maroon\">Gradient Boosting Classifier"
   ]
  },
  {
   "cell_type": "code",
   "execution_count": 12,
   "metadata": {},
   "outputs": [],
   "source": [
    "# Import required libraries\n",
    "from sklearn.ensemble import GradientBoostingClassifier\n",
    "from sklearn.metrics import classification_report\n",
    "from sklearn.model_selection import RandomizedSearchCV\n",
    "from sklearn import metrics\n",
    "import matplotlib.pyplot as plt"
   ]
  },
  {
   "cell_type": "code",
   "execution_count": 13,
   "metadata": {},
   "outputs": [],
   "source": [
    "# Actual data with one hot encoding for show_name\n",
    "data_gbm = data.drop([\"show_name\",\"time_offset\"], axis=1)"
   ]
  },
  {
   "cell_type": "markdown",
   "metadata": {},
   "source": [
    "###### <span style=\"color:Maroon\">Variable Reduction using GBM:\n",
    "<span style=\"color:Green\">To select the top N variables, we will use the GBM Variable Importance metrics to reduce the variables. The process for the same is:\n",
    "    \n",
    "<span style=\"color:Green\">$\\;\\;\\;\\;\\;\\;$1. Build a GBM model with all variables and Number of trees = 100\n",
    "    \n",
    "<span style=\"color:Green\">$\\;\\;\\;\\;\\;\\;$2. Calculate variable importance for all the variables\n",
    "    \n",
    "<span style=\"color:Green\">$\\;\\;\\;\\;\\;\\;$3. Drop all the variables with Cumualtive Variable Importance < 0.98 (lowest important variables)\n",
    "                                                                                              \n",
    "<span style=\"color:Green\">$\\;\\;\\;\\;\\;\\;$4. Repeat the steps 1 to 3, till GBM can no longer drop any variable based on variable Importance\n",
    "        \n",
    "<span style=\"color:Green\">For more details on \"variable importance metrics\" for GBM, please refer the below link: https://stats.stackexchange.com/questions/162162/relative-variable-importance-for-boosting"
   ]
  },
  {
   "cell_type": "code",
   "execution_count": 14,
   "metadata": {},
   "outputs": [],
   "source": [
    "# Variable reduction using GBM\n",
    "def varred_gbm(X, y, independent_vars):\n",
    "    X_reduce = X[independent_vars]\n",
    "    # Number of trees = 10 x number of variables\n",
    "    ntrees = 100\n",
    "    clf = GradientBoostingClassifier(learning_rate=0.05,n_estimators=ntrees, max_depth=4, min_samples_split=0.05, \n",
    "                                     max_features='sqrt', subsample=0.7, random_state=12345)\n",
    "    clf.fit(X_reduce,y)\n",
    "    VarSel = pd.DataFrame(independent_vars)\n",
    "    VarSel.columns = [\"Variables\"]\n",
    "    VarSel[\"Importance\"] = (clf.feature_importances_)\n",
    "    VarSel = VarSel.sort_values(\"Importance\", ascending=False)\n",
    "    VarSel[\"Cum_Imp\"] = VarSel[\"Importance\"].cumsum()\n",
    "    VarSel = VarSel[VarSel[\"Importance\"]>0]\n",
    "    VarSel = VarSel[VarSel[\"Cum_Imp\"] <= 0.98]\n",
    "    return list(VarSel[\"Variables\"])"
   ]
  },
  {
   "cell_type": "markdown",
   "metadata": {},
   "source": [
    "__Comment:__ As the number of independent variales is really high, we shall drop all variables which fail the chi square test of independence at relaxed value of 0.10"
   ]
  },
  {
   "cell_type": "code",
   "execution_count": 15,
   "metadata": {},
   "outputs": [],
   "source": [
    "# Split the data in train and test\n",
    "data_X = data_gbm.drop(target, axis=1)\n",
    "X_train, X_test, y_train, y_test = train_test_split(data_X, data_gbm[target], test_size=0.30, random_state=12345)"
   ]
  },
  {
   "cell_type": "code",
   "execution_count": 16,
   "metadata": {},
   "outputs": [
    {
     "name": "stdout",
     "output_type": "stream",
     "text": [
      "110 independent variables left\n",
      "55 independent variables left\n",
      "Top 55 variables were selected\n"
     ]
    }
   ],
   "source": [
    "# Variable reduction using random forest\n",
    "independent_vars = list(X_train.columns)\n",
    "flag_stop = True\n",
    "\n",
    "while(flag_stop):\n",
    "    bf_len = len(independent_vars)\n",
    "    independent_vars = varred_gbm(X_train,y_train, independent_vars)\n",
    "    print(\"{} independent variables left\".format(len(independent_vars)))\n",
    "    if(bf_len < 200):\n",
    "        flag_stop=False\n",
    "\n",
    "X_train_gbm = X_train[independent_vars]\n",
    "X_test_gbm = X_test[independent_vars]\n",
    "print (\"Top {} variables were selected\".format(len(independent_vars)))"
   ]
  },
  {
   "cell_type": "code",
   "execution_count": 17,
   "metadata": {},
   "outputs": [],
   "source": [
    "# Declare the hyper-parameters for grid search\n",
    "learning_rate = [0.01, 0.02, 0.05, 0.1]\n",
    "n_estimators = [int(x) for x in np.linspace(start = 50, stop = 200, num = 10)]\n",
    "subsample = [0.6, 0.7, 0.8]\n",
    "max_features = ['auto', 'sqrt']\n",
    "max_depth = [2, 3, 4, 5, 6]\n",
    "min_samples_split = [5, 10, 20, 50]\n",
    "min_samples_leaf = [2, 5, 10, 25]"
   ]
  },
  {
   "cell_type": "code",
   "execution_count": 18,
   "metadata": {},
   "outputs": [],
   "source": [
    "# Random grid \n",
    "random_grid = {'learning_rate': learning_rate,\n",
    "               'n_estimators': n_estimators,\n",
    "               'subsample': subsample,\n",
    "               'max_features': max_features,\n",
    "               'max_depth': max_depth,\n",
    "               'min_samples_split': min_samples_split,\n",
    "               'min_samples_leaf': min_samples_leaf}"
   ]
  },
  {
   "cell_type": "code",
   "execution_count": 19,
   "metadata": {},
   "outputs": [
    {
     "name": "stdout",
     "output_type": "stream",
     "text": [
      "Fitting 3 folds for each of 200 candidates, totalling 600 fits\n"
     ]
    },
    {
     "name": "stderr",
     "output_type": "stream",
     "text": [
      "[Parallel(n_jobs=-1)]: Using backend LokyBackend with 8 concurrent workers.\n",
      "[Parallel(n_jobs=-1)]: Done  25 tasks      | elapsed:    7.5s\n",
      "[Parallel(n_jobs=-1)]: Done 146 tasks      | elapsed:   28.0s\n",
      "[Parallel(n_jobs=-1)]: Done 349 tasks      | elapsed:  1.1min\n",
      "[Parallel(n_jobs=-1)]: Done 600 out of 600 | elapsed:  1.9min finished\n"
     ]
    },
    {
     "data": {
      "text/plain": [
       "RandomizedSearchCV(cv=3, error_score=nan,\n",
       "                   estimator=GradientBoostingClassifier(ccp_alpha=0.0,\n",
       "                                                        criterion='friedman_mse',\n",
       "                                                        init=None,\n",
       "                                                        learning_rate=0.1,\n",
       "                                                        loss='deviance',\n",
       "                                                        max_depth=3,\n",
       "                                                        max_features=None,\n",
       "                                                        max_leaf_nodes=None,\n",
       "                                                        min_impurity_decrease=0.0,\n",
       "                                                        min_impurity_split=None,\n",
       "                                                        min_samples_leaf=1,\n",
       "                                                        min_samples_split=2,\n",
       "                                                        min_weight_fraction_leaf=0.0,\n",
       "                                                        n_estimators=100,\n",
       "                                                        n_ite...\n",
       "                   param_distributions={'learning_rate': [0.01, 0.02, 0.05,\n",
       "                                                          0.1],\n",
       "                                        'max_depth': [2, 3, 4, 5, 6],\n",
       "                                        'max_features': ['auto', 'sqrt'],\n",
       "                                        'min_samples_leaf': [2, 5, 10, 25],\n",
       "                                        'min_samples_split': [5, 10, 20, 50],\n",
       "                                        'n_estimators': [50, 66, 83, 100, 116,\n",
       "                                                         133, 150, 166, 183,\n",
       "                                                         200],\n",
       "                                        'subsample': [0.6, 0.7, 0.8]},\n",
       "                   pre_dispatch='2*n_jobs', random_state=42, refit=True,\n",
       "                   return_train_score=False, scoring=None, verbose=2)"
      ]
     },
     "execution_count": 19,
     "metadata": {},
     "output_type": "execute_result"
    }
   ],
   "source": [
    "# GBM Model\n",
    "gbm = GradientBoostingClassifier()\n",
    "gbm_random = RandomizedSearchCV(estimator = gbm, param_distributions = random_grid, n_iter = 200, cv = 3,\n",
    "                               verbose=2, random_state=42, n_jobs = -1)\n",
    "# Fit the random search model\n",
    "gbm_random.fit(X_train_gbm, y_train)"
   ]
  },
  {
   "cell_type": "code",
   "execution_count": 20,
   "metadata": {},
   "outputs": [
    {
     "data": {
      "text/plain": [
       "GradientBoostingClassifier(ccp_alpha=0.0, criterion='friedman_mse', init=None,\n",
       "                           learning_rate=0.05, loss='deviance', max_depth=6,\n",
       "                           max_features='auto', max_leaf_nodes=None,\n",
       "                           min_impurity_decrease=0.0, min_impurity_split=None,\n",
       "                           min_samples_leaf=2, min_samples_split=5,\n",
       "                           min_weight_fraction_leaf=0.0, n_estimators=200,\n",
       "                           n_iter_no_change=None, presort='deprecated',\n",
       "                           random_state=None, subsample=0.8, tol=0.0001,\n",
       "                           validation_fraction=0.1, verbose=0,\n",
       "                           warm_start=False)"
      ]
     },
     "execution_count": 20,
     "metadata": {},
     "output_type": "execute_result"
    }
   ],
   "source": [
    "best_random_gbm = gbm_random.best_estimator_\n",
    "best_random_gbm"
   ]
  },
  {
   "cell_type": "code",
   "execution_count": 21,
   "metadata": {},
   "outputs": [],
   "source": [
    "# GBM model selected using Grid search\n",
    "clf = best_random_gbm"
   ]
  },
  {
   "cell_type": "code",
   "execution_count": 22,
   "metadata": {},
   "outputs": [
    {
     "data": {
      "text/plain": [
       "GradientBoostingClassifier(ccp_alpha=0.0, criterion='friedman_mse', init=None,\n",
       "                           learning_rate=0.05, loss='deviance', max_depth=6,\n",
       "                           max_features='auto', max_leaf_nodes=None,\n",
       "                           min_impurity_decrease=0.0, min_impurity_split=None,\n",
       "                           min_samples_leaf=2, min_samples_split=5,\n",
       "                           min_weight_fraction_leaf=0.0, n_estimators=200,\n",
       "                           n_iter_no_change=None, presort='deprecated',\n",
       "                           random_state=None, subsample=0.8, tol=0.0001,\n",
       "                           validation_fraction=0.1, verbose=0,\n",
       "                           warm_start=False)"
      ]
     },
     "execution_count": 22,
     "metadata": {},
     "output_type": "execute_result"
    }
   ],
   "source": [
    "clf.fit(X_train_gbm, y_train)"
   ]
  },
  {
   "cell_type": "code",
   "execution_count": 23,
   "metadata": {},
   "outputs": [],
   "source": [
    "os.chdir(\"..//Images//\")"
   ]
  },
  {
   "cell_type": "code",
   "execution_count": 24,
   "metadata": {},
   "outputs": [
    {
     "data": {
      "image/png": "[encoded data removed]",
      "text/plain": [
       "<Figure size 576x360 with 1 Axes>"
      ]
     },
     "metadata": {
      "needs_background": "light"
     },
     "output_type": "display_data"
    }
   ],
   "source": [
    "y_hat_test = clf.predict_proba(X_test_gbm)\n",
    "precision, recall, threshold = metrics.precision_recall_curve(y_test, y_hat_test[:,1])\n",
    "f1_score = 2*precision*recall/(precision + recall)\n",
    "threshold = np.hstack((0, threshold))\n",
    "plt.figure(figsize=(8,5))\n",
    "plt.plot(threshold, precision)\n",
    "plt.plot(threshold, recall)\n",
    "plt.plot(threshold, f1_score)\n",
    "plt.xlabel('threshold', fontsize=14)\n",
    "plt.title(\"Train Sample\", fontsize=18)\n",
    "plt.legend(['precision', 'recall', '$F_1$'])\n",
    "plt.savefig(\"Train_GBM_Precision_Recall_F1.png\")\n",
    "plt.show()"
   ]
  },
  {
   "cell_type": "code",
   "execution_count": 25,
   "metadata": {},
   "outputs": [
    {
     "name": "stdout",
     "output_type": "stream",
     "text": [
      "+++++++++++++++++++++++++++++++++++++++++++++++++++++\n",
      "\n",
      "Performance Metrics for Training Sample\n",
      "              precision    recall  f1-score   support\n",
      "\n",
      "           0       0.99      0.92      0.95     10573\n",
      "           1       0.52      0.86      0.65      1024\n",
      "\n",
      "    accuracy                           0.92     11597\n",
      "   macro avg       0.75      0.89      0.80     11597\n",
      "weighted avg       0.94      0.92      0.93     11597\n",
      "\n",
      "+++++++++++++++++++++++++++++++++++++++++++++++++++++\n",
      "\n",
      "Confusion Matrix\n",
      "\n",
      "Predicted     0    1\n",
      "Actual              \n",
      "0          9751  822\n",
      "1           139  885\n"
     ]
    }
   ],
   "source": [
    "y_hat = clf.predict_proba(X_train_gbm)\n",
    "# Find the optimum threshold on propensity to tag class as 1 or 0\n",
    "fpr, tpr, thresholds = metrics.roc_curve(y_train, y_hat[:,1])\n",
    "y_train_out = np.where(y_hat[:,1] > thresholds[np.argmax(tpr - fpr)],1,0)\n",
    "# Performance metrics of the model\n",
    "\n",
    "print(\"+++++++++++++++++++++++++++++++++++++++++++++++++++++\\n\")\n",
    "print(\"Performance Metrics for Training Sample\")\n",
    "print(classification_report(y_train, y_train_out))\n",
    "\n",
    "tmp = pd.DataFrame(y_train)\n",
    "tmp.columns = [\"Actual\"]\n",
    "tmp[\"Predicted\"] = y_train_out\n",
    "print(\"+++++++++++++++++++++++++++++++++++++++++++++++++++++\")\n",
    "print(\"\\nConfusion Matrix\\n\")\n",
    "print(pd.crosstab(tmp[\"Actual\"],tmp[\"Predicted\"]))"
   ]
  },
  {
   "cell_type": "code",
   "execution_count": 26,
   "metadata": {
    "scrolled": true
   },
   "outputs": [
    {
     "name": "stdout",
     "output_type": "stream",
     "text": [
      "+++++++++++++++++++++++++++++++++++++++++++++++++++++\n",
      "\n",
      "Performance Metrics for Training Sample\n",
      "              precision    recall  f1-score   support\n",
      "\n",
      "           0       0.98      0.92      0.95      4531\n",
      "           1       0.50      0.80      0.62       440\n",
      "\n",
      "    accuracy                           0.91      4971\n",
      "   macro avg       0.74      0.86      0.78      4971\n",
      "weighted avg       0.94      0.91      0.92      4971\n",
      "\n",
      "+++++++++++++++++++++++++++++++++++++++++++++++++++++\n",
      "\n",
      "Confusion Matrix\n",
      "\n",
      "Predicted     0    1\n",
      "Actual              \n",
      "0          4183  348\n",
      "1            87  353\n"
     ]
    }
   ],
   "source": [
    "# Scoring test data and analyzing performance\n",
    "y_hat = clf.predict_proba(X_test_gbm)\n",
    "y_test_out = np.where(y_hat[:,1] > thresholds[np.argmax(tpr - fpr)],1,0)\n",
    "# Performance metrics of the model\n",
    "\n",
    "print(\"+++++++++++++++++++++++++++++++++++++++++++++++++++++\\n\")\n",
    "print(\"Performance Metrics for Training Sample\")\n",
    "print(classification_report(y_test, y_test_out))\n",
    "\n",
    "tmp = pd.DataFrame(y_test)\n",
    "tmp.columns = [\"Actual\"]\n",
    "tmp[\"Predicted\"] = y_test_out\n",
    "print(\"+++++++++++++++++++++++++++++++++++++++++++++++++++++\")\n",
    "print(\"\\nConfusion Matrix\\n\")\n",
    "print(pd.crosstab(tmp[\"Actual\"],tmp[\"Predicted\"]))"
   ]
  },
  {
   "cell_type": "code",
   "execution_count": 27,
   "metadata": {},
   "outputs": [
    {
     "data": {
      "image/png": "[encoded data removed]",
      "text/plain": [
       "<Figure size 1440x360 with 1 Axes>"
      ]
     },
     "metadata": {
      "needs_background": "light"
     },
     "output_type": "display_data"
    }
   ],
   "source": [
    "# Plot Variable Importance of the features in the final Model\n",
    "plt.rcParams['figure.figsize'] = [20, 5]\n",
    "variable_importance = clf.feature_importances_\n",
    "variables = list(X_train_gbm.columns)\n",
    "importance = pd.DataFrame(variables)\n",
    "importance.columns = [\"Variables\"]\n",
    "importance[\"Importance\"] = variable_importance\n",
    "importance = importance.sort_values(\"Importance\", ascending = False)\n",
    "plt.bar(importance[\"Variables\"], importance[\"Importance\"])\n",
    "plt.xlabel(\"Variable\", fontsize=14)\n",
    "plt.ylabel(\"Importance\", fontsize = 14)\n",
    "plt.title(\"Variable Importance for GBM Model\", fontsize=18) \n",
    "plt.xticks(rotation=90)\n",
    "plt.savefig(\"VariableImportance_GBM_Train.png\")\n",
    "plt.show()"
   ]
  },
  {
   "cell_type": "markdown",
   "metadata": {},
   "source": [
    "<span style=\"color:Blue\">__Comments:__ \"Fresh Meat\" show has the highest variable importance, followed by \"r_meal\", \"r_cafeteria\" varaibles. \n",
    "\n",
    "<span style=\"color:Blue\">$\\;\\;\\;\\;\\;\\;$ > To improve the performance, we could drop certain variables based on business sense (drop variables which have nothing to do with food). But the input to this model is an ouput of an image classification algorithm. Hence, letting the algorithm pick the nuances of the data.\n",
    "\n",
    "<span style=\"color:Blue\">$\\;\\;\\;\\;\\;\\;$ > As the data has only '1' or '0', building a Partial dependence plot also doesn't make lot of sense"
   ]
  },
  {
   "cell_type": "markdown",
   "metadata": {},
   "source": [
    "                          "
   ]
  },
  {
   "cell_type": "markdown",
   "metadata": {},
   "source": [
    "             "
   ]
  },
  {
   "cell_type": "markdown",
   "metadata": {},
   "source": [
    "### <span style=\"color:Maroon\">Conclusion:\n",
    "\n",
    "<span style=\"color:Green\">In this data science excercise, we built five different models:\n",
    "\n",
    "<span style=\"color:Blue\">$\\;\\;\\;\\;\\;\\;$1. Majority class predictor (to act as a baseline)\n",
    "    \n",
    "<span style=\"color:Blue\">$\\;\\;\\;\\;\\;\\;$2. Sum of Indicator (business logic model)\n",
    "    \n",
    "<span style=\"color:Blue\">$\\;\\;\\;\\;\\;\\;$3. Logistic Regression\n",
    "    \n",
    "<span style=\"color:Blue\">$\\;\\;\\;\\;\\;\\;$4. Random Forest Model\n",
    "    \n",
    "<span style=\"color:Blue\">$\\;\\;\\;\\;\\;\\;$5. Gradient Boosting Model\n",
    "    \n",
    "<span style=\"color:Blue\">The performance for 5 different models is summarized in the table below (for Class == 1)\n",
    "\n",
    "\n",
    "<span style=\"color:Maroon\">__Performance table for train dataset__\n",
    "\n",
    "|             Model           |   Accuracy  |   Precision |  Recall     | F1 Score  | \n",
    "|-----------------------------|:-----------:|:-----------:|:-----------:|:---------:|\n",
    "|  Majority class classifier  |    0.91     |     0.00    |    0.00     |    0.00   | \n",
    "|    Sum Business Classifier  |    0.15     |     0.09    |    1.00     |    0.17   |    \n",
    "|     Logistic Regression     |    0.82     |     0.32    |    0.92     |    0.47   | \n",
    "|   Random Forest Classifier  |    0.96     |     0.69    |    0.94     |    0.79   |    \n",
    "|Gradient Boosting Classifier |    0.92     |     0.52    |    0.86     |    0.65   |\n",
    "\n",
    "\n",
    "\n",
    "<span style=\"color:Maroon\">__Performance table for test dataset__\n",
    "\n",
    "|             Model           |   Accuracy  |   Precision |  Recall     | F1 Score  | \n",
    "|-----------------------------|:-----------:|:-----------:|:-----------:|:---------:|\n",
    "|  Majority class classifier  |    0.91     |     0.00    |    0.00     |    0.00   | \n",
    "|    Sum Business Classifier  |    0.15     |     0.09    |    1.00     |    0.17   |    \n",
    "|     Logistic Regression     |    0.83     |     0.33    |    0.92     |    0.48   | \n",
    "|   Random Forest Classifier  |    0.93     |     0.59    |    0.80     |    0.67   |    \n",
    "|Gradient Boosting Classifier |    0.91     |     0.50    |    0.80     |    0.62   |"
   ]
  },
  {
   "cell_type": "markdown",
   "metadata": {},
   "source": [
    "<span style=\"color:Blue\">__Comments:__ Based on performance, Random Forest classifier has the highes F1-score and maximum accuracy (ignoring the majority class predictor, as it has 0.00 F1-score).\n",
    "    \n",
    "<span style=\"color:Blue\">Based on model performance, and number of variables, the RF model should be used as the final model."
   ]
  },
  {
   "cell_type": "markdown",
   "metadata": {},
   "source": [
    "             "
   ]
  },
  {
   "cell_type": "markdown",
   "metadata": {},
   "source": [
    "#### <span style=\"color:Maroon\">Possible way to improve the model:\n",
    "\n",
    "<span style=\"color:Green\">$\\;\\;\\;\\;\\;\\;$1. Remove the redundant categories from 3rd party object recognition algorithm and request for more \"Business need\" based object prediciton categories (if possible)\n",
    "    \n",
    "<span style=\"color:Green\">$\\;\\;\\;\\;\\;\\;$2. Use to auto-encoders to reduce dimensionality (Are highly helpful in sparse data. But since the input of this model is an output of object classification algorithm, this would result in three series model and error in one will porpogate in other, resulting in poor stability.)"
   ]
  },
  {
   "cell_type": "markdown",
   "metadata": {},
   "source": [
    "            "
   ]
  }
 ],
 "metadata": {
  "kernelspec": {
   "display_name": "Python 3",
   "language": "python",
   "name": "python3"
  },
  "language_info": {
   "codemirror_mode": {
    "name": "ipython",
    "version": 3
   },
   "file_extension": ".py",
   "mimetype": "text/x-python",
   "name": "python",
   "nbconvert_exporter": "python",
   "pygments_lexer": "ipython3",
   "version": "3.7.6"
  }
 },
 "nbformat": 4,
 "nbformat_minor": 2
}

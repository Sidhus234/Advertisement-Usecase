{
 "cells": [
  {
   "cell_type": "markdown",
   "metadata": {},
   "source": [
    "             "
   ]
  },
  {
   "cell_type": "code",
   "execution_count": 1,
   "metadata": {},
   "outputs": [],
   "source": [
    "import warnings\n",
    "warnings.filterwarnings('ignore')"
   ]
  },
  {
   "cell_type": "markdown",
   "metadata": {},
   "source": [
    "     "
   ]
  },
  {
   "cell_type": "markdown",
   "metadata": {},
   "source": [
    "# <span style=\"color:Maroon\">Case Study: Usage of Data Science in Entertainment Industry.\n",
    "\n",
    "#### <span style=\"color:Green\">Select optimal advetisement to display in break time for a TV Show, based on what was recently shown in the TV"
   ]
  },
  {
   "cell_type": "markdown",
   "metadata": {},
   "source": [
    "## <span style=\"color:Maroon\">Naive Classifier (Based on Majority Class)\n",
    "\n",
    "<span style=\"color:Green\">A simple implementation of Majority Class Classifier to show, how accuracy in itself is not a good metric of performance. The model just picks the marjority class, and always predict, it as the output. In biased dataset (One class is more prevalent over others), this model will do really good in terms of accuracy. \n",
    "\n",
    "<span style=\"color:Green\">__NEVER USE THIS AS FINAL MODEL. THIS IS JUST FOR ILLUSTRATION PURPOSE__"
   ]
  },
  {
   "cell_type": "markdown",
   "metadata": {},
   "source": [
    "              "
   ]
  },
  {
   "cell_type": "markdown",
   "metadata": {},
   "source": [
    "         "
   ]
  },
  {
   "cell_type": "code",
   "execution_count": 2,
   "metadata": {},
   "outputs": [
    {
     "data": {
      "text/plain": [
       "<pandas._config.config.option_context at 0x1b1360d4dc8>"
      ]
     },
     "execution_count": 2,
     "metadata": {},
     "output_type": "execute_result"
    }
   ],
   "source": [
    "# Import required libraries\n",
    "import pandas as pd\n",
    "import numpy as np\n",
    "import os as os\n",
    "np.random.seed(0)\n",
    "pd.option_context('display.max_rows', None, 'display.max_columns', None)"
   ]
  },
  {
   "cell_type": "code",
   "execution_count": 3,
   "metadata": {},
   "outputs": [],
   "source": [
    "# Setting the working directory to the folder\n",
    "direc = os.getcwd()\n",
    "os.chdir(\"..//Data//\")"
   ]
  },
  {
   "cell_type": "code",
   "execution_count": 4,
   "metadata": {},
   "outputs": [],
   "source": [
    "# Read the data in pandas dataframe\n",
    "data = pd.read_csv(\"Dataset.csv\")\n",
    "data = data.fillna(0)"
   ]
  },
  {
   "cell_type": "code",
   "execution_count": 5,
   "metadata": {},
   "outputs": [],
   "source": [
    "# Dependent variable (is given name of target)\n",
    "target = 'h_food_str'\n",
    "# Other dependent variables (These should be dropped from our dataset)\n",
    "dv_list = ['h_alcohol_str', 'h_hot_drink_str', 'h_phone_str']\n",
    "# drop the dv_list from the data (as In future, these labels won't be available to us (dv_list).\n",
    "# Hence, for our modeling purpose, these variables are being dropped from the data.)\n",
    "data = data.drop(dv_list, axis=1)"
   ]
  },
  {
   "cell_type": "code",
   "execution_count": 6,
   "metadata": {},
   "outputs": [
    {
     "data": {
      "text/html": [
       "<div>\n",
       "<style scoped>\n",
       "    .dataframe tbody tr th:only-of-type {\n",
       "        vertical-align: middle;\n",
       "    }\n",
       "\n",
       "    .dataframe tbody tr th {\n",
       "        vertical-align: top;\n",
       "    }\n",
       "\n",
       "    .dataframe thead th {\n",
       "        text-align: right;\n",
       "    }\n",
       "</style>\n",
       "<table border=\"1\" class=\"dataframe\">\n",
       "  <thead>\n",
       "    <tr style=\"text-align: right;\">\n",
       "      <th></th>\n",
       "      <th>show_name</th>\n",
       "      <th>time_offset</th>\n",
       "      <th>r_abies</th>\n",
       "      <th>r_abyssinian</th>\n",
       "      <th>r_accessories</th>\n",
       "      <th>r_accipiter</th>\n",
       "      <th>r_acorn</th>\n",
       "      <th>r_adapter</th>\n",
       "      <th>r_adorable</th>\n",
       "      <th>r_adventure</th>\n",
       "      <th>...</th>\n",
       "      <th>r_zoo</th>\n",
       "      <th>h_food_str</th>\n",
       "      <th>show_name_fresh_meat</th>\n",
       "      <th>show_name_friday_night_dinner</th>\n",
       "      <th>show_name_hollyoaks</th>\n",
       "      <th>show_name_made_in_chelsea</th>\n",
       "      <th>show_name_made_in_chelsea_la</th>\n",
       "      <th>show_name_my_mad_fat_diary</th>\n",
       "      <th>show_name_peep_show</th>\n",
       "      <th>show_name_the_inbetweeners</th>\n",
       "    </tr>\n",
       "  </thead>\n",
       "  <tbody>\n",
       "    <tr>\n",
       "      <th>0</th>\n",
       "      <td>fresh_meat</td>\n",
       "      <td>1</td>\n",
       "      <td>0.0</td>\n",
       "      <td>0.0</td>\n",
       "      <td>0.0</td>\n",
       "      <td>0.0</td>\n",
       "      <td>0.0</td>\n",
       "      <td>0.0</td>\n",
       "      <td>0.0</td>\n",
       "      <td>0.0</td>\n",
       "      <td>...</td>\n",
       "      <td>0.0</td>\n",
       "      <td>0</td>\n",
       "      <td>1</td>\n",
       "      <td>0</td>\n",
       "      <td>0</td>\n",
       "      <td>0</td>\n",
       "      <td>0</td>\n",
       "      <td>0</td>\n",
       "      <td>0</td>\n",
       "      <td>0</td>\n",
       "    </tr>\n",
       "    <tr>\n",
       "      <th>1</th>\n",
       "      <td>fresh_meat</td>\n",
       "      <td>2</td>\n",
       "      <td>0.0</td>\n",
       "      <td>0.0</td>\n",
       "      <td>0.0</td>\n",
       "      <td>0.0</td>\n",
       "      <td>0.0</td>\n",
       "      <td>0.0</td>\n",
       "      <td>0.0</td>\n",
       "      <td>0.0</td>\n",
       "      <td>...</td>\n",
       "      <td>0.0</td>\n",
       "      <td>0</td>\n",
       "      <td>1</td>\n",
       "      <td>0</td>\n",
       "      <td>0</td>\n",
       "      <td>0</td>\n",
       "      <td>0</td>\n",
       "      <td>0</td>\n",
       "      <td>0</td>\n",
       "      <td>0</td>\n",
       "    </tr>\n",
       "    <tr>\n",
       "      <th>2</th>\n",
       "      <td>fresh_meat</td>\n",
       "      <td>3</td>\n",
       "      <td>0.0</td>\n",
       "      <td>0.0</td>\n",
       "      <td>0.0</td>\n",
       "      <td>0.0</td>\n",
       "      <td>0.0</td>\n",
       "      <td>0.0</td>\n",
       "      <td>0.0</td>\n",
       "      <td>0.0</td>\n",
       "      <td>...</td>\n",
       "      <td>0.0</td>\n",
       "      <td>0</td>\n",
       "      <td>1</td>\n",
       "      <td>0</td>\n",
       "      <td>0</td>\n",
       "      <td>0</td>\n",
       "      <td>0</td>\n",
       "      <td>0</td>\n",
       "      <td>0</td>\n",
       "      <td>0</td>\n",
       "    </tr>\n",
       "    <tr>\n",
       "      <th>3</th>\n",
       "      <td>fresh_meat</td>\n",
       "      <td>4</td>\n",
       "      <td>0.0</td>\n",
       "      <td>0.0</td>\n",
       "      <td>0.0</td>\n",
       "      <td>0.0</td>\n",
       "      <td>0.0</td>\n",
       "      <td>0.0</td>\n",
       "      <td>0.0</td>\n",
       "      <td>0.0</td>\n",
       "      <td>...</td>\n",
       "      <td>0.0</td>\n",
       "      <td>0</td>\n",
       "      <td>1</td>\n",
       "      <td>0</td>\n",
       "      <td>0</td>\n",
       "      <td>0</td>\n",
       "      <td>0</td>\n",
       "      <td>0</td>\n",
       "      <td>0</td>\n",
       "      <td>0</td>\n",
       "    </tr>\n",
       "    <tr>\n",
       "      <th>4</th>\n",
       "      <td>fresh_meat</td>\n",
       "      <td>5</td>\n",
       "      <td>0.0</td>\n",
       "      <td>0.0</td>\n",
       "      <td>0.0</td>\n",
       "      <td>0.0</td>\n",
       "      <td>0.0</td>\n",
       "      <td>0.0</td>\n",
       "      <td>0.0</td>\n",
       "      <td>0.0</td>\n",
       "      <td>...</td>\n",
       "      <td>0.0</td>\n",
       "      <td>0</td>\n",
       "      <td>1</td>\n",
       "      <td>0</td>\n",
       "      <td>0</td>\n",
       "      <td>0</td>\n",
       "      <td>0</td>\n",
       "      <td>0</td>\n",
       "      <td>0</td>\n",
       "      <td>0</td>\n",
       "    </tr>\n",
       "  </tbody>\n",
       "</table>\n",
       "<p>5 rows × 1615 columns</p>\n",
       "</div>"
      ],
      "text/plain": [
       "    show_name  time_offset  r_abies  r_abyssinian  r_accessories  r_accipiter  \\\n",
       "0  fresh_meat            1      0.0           0.0            0.0          0.0   \n",
       "1  fresh_meat            2      0.0           0.0            0.0          0.0   \n",
       "2  fresh_meat            3      0.0           0.0            0.0          0.0   \n",
       "3  fresh_meat            4      0.0           0.0            0.0          0.0   \n",
       "4  fresh_meat            5      0.0           0.0            0.0          0.0   \n",
       "\n",
       "   r_acorn  r_adapter  r_adorable  r_adventure  ...  r_zoo  h_food_str  \\\n",
       "0      0.0        0.0         0.0          0.0  ...    0.0           0   \n",
       "1      0.0        0.0         0.0          0.0  ...    0.0           0   \n",
       "2      0.0        0.0         0.0          0.0  ...    0.0           0   \n",
       "3      0.0        0.0         0.0          0.0  ...    0.0           0   \n",
       "4      0.0        0.0         0.0          0.0  ...    0.0           0   \n",
       "\n",
       "   show_name_fresh_meat  show_name_friday_night_dinner  show_name_hollyoaks  \\\n",
       "0                     1                              0                    0   \n",
       "1                     1                              0                    0   \n",
       "2                     1                              0                    0   \n",
       "3                     1                              0                    0   \n",
       "4                     1                              0                    0   \n",
       "\n",
       "   show_name_made_in_chelsea  show_name_made_in_chelsea_la  \\\n",
       "0                          0                             0   \n",
       "1                          0                             0   \n",
       "2                          0                             0   \n",
       "3                          0                             0   \n",
       "4                          0                             0   \n",
       "\n",
       "   show_name_my_mad_fat_diary  show_name_peep_show  show_name_the_inbetweeners  \n",
       "0                           0                    0                           0  \n",
       "1                           0                    0                           0  \n",
       "2                           0                    0                           0  \n",
       "3                           0                    0                           0  \n",
       "4                           0                    0                           0  \n",
       "\n",
       "[5 rows x 1615 columns]"
      ]
     },
     "execution_count": 6,
     "metadata": {},
     "output_type": "execute_result"
    }
   ],
   "source": [
    "# One hot encoding of 'show_name' variable\n",
    "df1 = pd.get_dummies(data['show_name'], prefix = 'show_name')\n",
    "data = data.join(df1)\n",
    "data.head()"
   ]
  },
  {
   "cell_type": "markdown",
   "metadata": {},
   "source": [
    "             "
   ]
  },
  {
   "cell_type": "markdown",
   "metadata": {},
   "source": [
    "              "
   ]
  },
  {
   "cell_type": "markdown",
   "metadata": {},
   "source": [
    "           "
   ]
  },
  {
   "cell_type": "markdown",
   "metadata": {},
   "source": [
    "### <span style=\"color:Maroon\">Train-Test Split\n",
    "<span style=\"color:Green\">Divide the data in 70:30 ratio for training the model and validating the model"
   ]
  },
  {
   "cell_type": "code",
   "execution_count": 7,
   "metadata": {},
   "outputs": [],
   "source": [
    "from sklearn.model_selection import train_test_split"
   ]
  },
  {
   "cell_type": "code",
   "execution_count": 8,
   "metadata": {},
   "outputs": [],
   "source": [
    "# Split the data in train and test\n",
    "X_train, X_test, y_train, y_test = train_test_split(data.drop([target],axis=1), data[target], test_size=0.30, \n",
    "                                                    random_state=12345)"
   ]
  },
  {
   "cell_type": "code",
   "execution_count": 9,
   "metadata": {},
   "outputs": [],
   "source": [
    "y_train = y_train.ravel()\n",
    "y_test = y_test.ravel()"
   ]
  },
  {
   "cell_type": "code",
   "execution_count": 10,
   "metadata": {},
   "outputs": [
    {
     "name": "stdout",
     "output_type": "stream",
     "text": [
      "Train Dependent variable: 8.83\n",
      "Test Dependent variable: 8.85\n"
     ]
    }
   ],
   "source": [
    "# Check if the random samples have similar mean\n",
    "print (f\"Train Dependent variable: {np.round(np.mean(y_train)*100,2)}\")\n",
    "print (f\"Test Dependent variable: {np.round(np.mean(y_test)*100,2)}\")"
   ]
  },
  {
   "cell_type": "markdown",
   "metadata": {},
   "source": [
    "<span style=\"color:Blue\">__Comments:__ The means of dependent variable are very similar in test and train dataset"
   ]
  },
  {
   "cell_type": "markdown",
   "metadata": {},
   "source": [
    "### <span style=\"color:Maroon\">Part 1: Naive Classifier:\n",
    "##### The classifier just predicts the majority class as the output."
   ]
  },
  {
   "cell_type": "code",
   "execution_count": 11,
   "metadata": {},
   "outputs": [],
   "source": [
    "# import base model libraries from sklearn\n",
    "from sklearn.base import BaseEstimator, ClassifierMixin\n",
    "from collections import Counter\n",
    "from sklearn.metrics import classification_report"
   ]
  },
  {
   "cell_type": "markdown",
   "metadata": {},
   "source": [
    "<span style=\"color:Green\">Define a clas MajorityClassifier to predicit the output as class that is most common"
   ]
  },
  {
   "cell_type": "code",
   "execution_count": 12,
   "metadata": {},
   "outputs": [],
   "source": [
    "# Define a class to predict it to resue in case of future\n",
    "class MajorityClassifier(BaseEstimator, ClassifierMixin):\n",
    "    def __self__(self):\n",
    "        pass\n",
    "\n",
    "    def fit(self, X, y):\n",
    "        c = Counter(y)\n",
    "        self.mode_ = c.most_common(1)[0][0]\n",
    "        self.fraction_ = np.array(list(c.values()))/X.shape[0]\n",
    "        return self\n",
    "\n",
    "    def predict(self, X):\n",
    "        return self.mode_ * np.ones(X.shape[0])\n",
    "    \n",
    "    \n",
    "    def predict_proba(self, X):\n",
    "        return np.dot(np.ones((X.shape[0],1)), self.fraction_.reshape(1,-1))"
   ]
  },
  {
   "cell_type": "code",
   "execution_count": 13,
   "metadata": {},
   "outputs": [
    {
     "data": {
      "text/plain": [
       "MajorityClassifier()"
      ]
     },
     "execution_count": 13,
     "metadata": {},
     "output_type": "execute_result"
    }
   ],
   "source": [
    "# Fitting the majority class model\n",
    "mc = MajorityClassifier()\n",
    "mc.fit(X_train,y_train)"
   ]
  },
  {
   "cell_type": "code",
   "execution_count": 14,
   "metadata": {},
   "outputs": [],
   "source": [
    "# Prediciting the class for training dataset\n",
    "y_train_class_pred = mc.predict(X_train)"
   ]
  },
  {
   "cell_type": "code",
   "execution_count": 15,
   "metadata": {},
   "outputs": [
    {
     "name": "stdout",
     "output_type": "stream",
     "text": [
      "+++++++++++++++++++++++++++++++++++++++++++++++++++++\n",
      "\n",
      "Performance Metrics for Training Sample\n",
      "              precision    recall  f1-score   support\n",
      "\n",
      "           0       0.91      1.00      0.95     10573\n",
      "           1       0.00      0.00      0.00      1024\n",
      "\n",
      "    accuracy                           0.91     11597\n",
      "   macro avg       0.46      0.50      0.48     11597\n",
      "weighted avg       0.83      0.91      0.87     11597\n",
      "\n",
      "+++++++++++++++++++++++++++++++++++++++++++++++++++++\n",
      "\n",
      "Confusion Matrix\n",
      "\n",
      "Predicted    0.0\n",
      "Actual          \n",
      "0          10573\n",
      "1           1024\n"
     ]
    }
   ],
   "source": [
    "# Lets look at the performance of the naive model\n",
    "print(\"+++++++++++++++++++++++++++++++++++++++++++++++++++++\\n\")\n",
    "print(\"Performance Metrics for Training Sample\")\n",
    "print(classification_report(y_train, y_train_class_pred))\n",
    "\n",
    "tmp = pd.DataFrame(y_train, columns=[\"Actual\"])\n",
    "tmp[\"Predicted\"] = y_train_class_pred\n",
    "print(\"+++++++++++++++++++++++++++++++++++++++++++++++++++++\")\n",
    "print(\"\\nConfusion Matrix\\n\")\n",
    "print(pd.crosstab(tmp[\"Actual\"],tmp[\"Predicted\"]))"
   ]
  },
  {
   "cell_type": "markdown",
   "metadata": {},
   "source": [
    "<span style=\"color:Blue\">__Comments:__ Though the model has an accuracy of 91%, the precision, recall and f1-score are all 0's (for class == 1). This is not a good model (although if we look only at accuracy, it might look a very good model)"
   ]
  },
  {
   "cell_type": "code",
   "execution_count": 16,
   "metadata": {
    "scrolled": true
   },
   "outputs": [
    {
     "name": "stdout",
     "output_type": "stream",
     "text": [
      "+++++++++++++++++++++++++++++++++++++++++++++++++++++\n",
      "\n",
      "Performance Metrics for Test Sample\n",
      "              precision    recall  f1-score   support\n",
      "\n",
      "           0       0.91      1.00      0.95      4531\n",
      "           1       0.00      0.00      0.00       440\n",
      "\n",
      "    accuracy                           0.91      4971\n",
      "   macro avg       0.46      0.50      0.48      4971\n",
      "weighted avg       0.83      0.91      0.87      4971\n",
      "\n",
      "+++++++++++++++++++++++++++++++++++++++++++++++++++++\n",
      "\n",
      "Confusion Matrix\n",
      "\n",
      "Predicted   0.0\n",
      "Actual         \n",
      "0          4531\n",
      "1           440\n"
     ]
    }
   ],
   "source": [
    "y_test_class_pred = mc.predict(X_test)\n",
    "\n",
    "# Peroformance for test sample:\n",
    "print(\"+++++++++++++++++++++++++++++++++++++++++++++++++++++\\n\")\n",
    "print(\"Performance Metrics for Test Sample\")\n",
    "print(classification_report(y_test, y_test_class_pred))\n",
    "\n",
    "tmp = pd.DataFrame(y_test, columns=[\"Actual\"])\n",
    "tmp[\"Predicted\"] = y_test_class_pred\n",
    "print(\"+++++++++++++++++++++++++++++++++++++++++++++++++++++\")\n",
    "print(\"\\nConfusion Matrix\\n\")\n",
    "print(pd.crosstab(tmp[\"Actual\"],tmp[\"Predicted\"]))"
   ]
  },
  {
   "cell_type": "markdown",
   "metadata": {},
   "source": [
    "<span style=\"color:Blue\">__Comments__ Same as training sample, the model has a really good accuracy, but recall, precision and f1-score are all 0's (for class == 1). "
   ]
  },
  {
   "cell_type": "markdown",
   "metadata": {},
   "source": [
    "   "
   ]
  },
  {
   "cell_type": "markdown",
   "metadata": {},
   "source": [
    " "
   ]
  }
 ],
 "metadata": {
  "kernelspec": {
   "display_name": "Python 3",
   "language": "python",
   "name": "python3"
  },
  "language_info": {
   "codemirror_mode": {
    "name": "ipython",
    "version": 3
   },
   "file_extension": ".py",
   "mimetype": "text/x-python",
   "name": "python",
   "nbconvert_exporter": "python",
   "pygments_lexer": "ipython3",
   "version": "3.7.6"
  }
 },
 "nbformat": 4,
 "nbformat_minor": 2
}

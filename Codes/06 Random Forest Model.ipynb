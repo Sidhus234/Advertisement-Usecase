{
 "cells": [
  {
   "cell_type": "markdown",
   "metadata": {},
   "source": [
    "             "
   ]
  },
  {
   "cell_type": "code",
   "execution_count": 1,
   "metadata": {},
   "outputs": [],
   "source": [
    "import warnings\n",
    "warnings.filterwarnings('ignore')"
   ]
  },
  {
   "cell_type": "markdown",
   "metadata": {},
   "source": [
    "     "
   ]
  },
  {
   "cell_type": "markdown",
   "metadata": {},
   "source": [
    "# <span style=\"color:Maroon\">Case Study: Usage of Data Science in Entertainment Industry.\n",
    "\n",
    "#### <span style=\"color:Green\">Select optimal advetisement to display in break time for a TV Show, based on what was recently shown in the TV"
   ]
  },
  {
   "cell_type": "markdown",
   "metadata": {},
   "source": [
    "## <span style=\"color:Maroon\">Random Forest Model\n",
    "\n",
    "<span style=\"color:Green\">A random forest is a meta estimator that fits a number of decision tree classifiers on various sub-samples of the dataset and uses averaging to improve the predictive accuracy and control over-fitting. The sub-sample size is always the same as the original input sample size but the samples are drawn with replacement\n",
    "\n",
    "<span style=\"color:Green\">The hyperparameters available for random forests are:\n",
    "    \n",
    "<span style=\"color:Green\">$\\;\\;\\;\\;\\;\\;$1. Number of trees: Total number of trees to be built in final model\n",
    "    \n",
    "<span style=\"color:Green\">$\\;\\;\\;\\;\\;\\;$2. Depth:Max depth allowed for each tree\n",
    "    \n",
    "<span style=\"color:Green\">$\\;\\;\\;\\;\\;\\;$3. Minimum Sample split: Minimum observations in a node to split\n",
    "    \n",
    "<span style=\"color:Green\">$\\;\\;\\;\\;\\;\\;$4. Minimum samples leaf: Minimum number of observations in a leaf node\n",
    "    \n",
    "<span style=\"color:Green\">$\\;\\;\\;\\;\\;\\;$5. Max features: Number of features (Randomly) selected to build a tree\n",
    "\n",
    "<span style=\"color:Green\">Since the random forest is based on idea of bootstrapping and aggregating the results, it is referred to as a *bagging* ensemble model."
   ]
  },
  {
   "cell_type": "markdown",
   "metadata": {},
   "source": [
    "              "
   ]
  },
  {
   "cell_type": "markdown",
   "metadata": {},
   "source": [
    "         "
   ]
  },
  {
   "cell_type": "code",
   "execution_count": 2,
   "metadata": {},
   "outputs": [
    {
     "data": {
      "text/plain": [
       "<pandas._config.config.option_context at 0x1e5bbcf4d48>"
      ]
     },
     "execution_count": 2,
     "metadata": {},
     "output_type": "execute_result"
    }
   ],
   "source": [
    "# Import required libraries\n",
    "import pandas as pd\n",
    "import numpy as np\n",
    "import os as os\n",
    "np.random.seed(0)\n",
    "pd.option_context('display.max_rows', None, 'display.max_columns', None)"
   ]
  },
  {
   "cell_type": "code",
   "execution_count": 3,
   "metadata": {},
   "outputs": [],
   "source": [
    "# Setting the working directory to the folder\n",
    "direc = os.getcwd()\n",
    "os.chdir(\"..//Data//\")"
   ]
  },
  {
   "cell_type": "code",
   "execution_count": 4,
   "metadata": {},
   "outputs": [],
   "source": [
    "# Read the data in pandas dataframe\n",
    "data = pd.read_csv(\"Dataset.csv\")\n",
    "data = data.fillna(0)"
   ]
  },
  {
   "cell_type": "code",
   "execution_count": 5,
   "metadata": {},
   "outputs": [],
   "source": [
    "# Dependent variable (is given name of target)\n",
    "target = 'h_food_str'\n",
    "# Other dependent variables (These should be dropped from our dataset)\n",
    "dv_list = ['h_alcohol_str', 'h_hot_drink_str', 'h_phone_str']\n",
    "# drop the dv_list from the data (as In future, these labels won't be available to us (dv_list).\n",
    "# Hence, for our modeling purpose, these variables are being dropped from the data.)\n",
    "data = data.drop(dv_list, axis=1)"
   ]
  },
  {
   "cell_type": "code",
   "execution_count": 6,
   "metadata": {},
   "outputs": [
    {
     "data": {
      "text/html": [
       "<div>\n",
       "<style scoped>\n",
       "    .dataframe tbody tr th:only-of-type {\n",
       "        vertical-align: middle;\n",
       "    }\n",
       "\n",
       "    .dataframe tbody tr th {\n",
       "        vertical-align: top;\n",
       "    }\n",
       "\n",
       "    .dataframe thead th {\n",
       "        text-align: right;\n",
       "    }\n",
       "</style>\n",
       "<table border=\"1\" class=\"dataframe\">\n",
       "  <thead>\n",
       "    <tr style=\"text-align: right;\">\n",
       "      <th></th>\n",
       "      <th>show_name</th>\n",
       "      <th>time_offset</th>\n",
       "      <th>r_abies</th>\n",
       "      <th>r_abyssinian</th>\n",
       "      <th>r_accessories</th>\n",
       "      <th>r_accipiter</th>\n",
       "      <th>r_acorn</th>\n",
       "      <th>r_adapter</th>\n",
       "      <th>r_adorable</th>\n",
       "      <th>r_adventure</th>\n",
       "      <th>...</th>\n",
       "      <th>r_zoo</th>\n",
       "      <th>h_food_str</th>\n",
       "      <th>show_name_fresh_meat</th>\n",
       "      <th>show_name_friday_night_dinner</th>\n",
       "      <th>show_name_hollyoaks</th>\n",
       "      <th>show_name_made_in_chelsea</th>\n",
       "      <th>show_name_made_in_chelsea_la</th>\n",
       "      <th>show_name_my_mad_fat_diary</th>\n",
       "      <th>show_name_peep_show</th>\n",
       "      <th>show_name_the_inbetweeners</th>\n",
       "    </tr>\n",
       "  </thead>\n",
       "  <tbody>\n",
       "    <tr>\n",
       "      <th>0</th>\n",
       "      <td>fresh_meat</td>\n",
       "      <td>1</td>\n",
       "      <td>0.0</td>\n",
       "      <td>0.0</td>\n",
       "      <td>0.0</td>\n",
       "      <td>0.0</td>\n",
       "      <td>0.0</td>\n",
       "      <td>0.0</td>\n",
       "      <td>0.0</td>\n",
       "      <td>0.0</td>\n",
       "      <td>...</td>\n",
       "      <td>0.0</td>\n",
       "      <td>0</td>\n",
       "      <td>1</td>\n",
       "      <td>0</td>\n",
       "      <td>0</td>\n",
       "      <td>0</td>\n",
       "      <td>0</td>\n",
       "      <td>0</td>\n",
       "      <td>0</td>\n",
       "      <td>0</td>\n",
       "    </tr>\n",
       "    <tr>\n",
       "      <th>1</th>\n",
       "      <td>fresh_meat</td>\n",
       "      <td>2</td>\n",
       "      <td>0.0</td>\n",
       "      <td>0.0</td>\n",
       "      <td>0.0</td>\n",
       "      <td>0.0</td>\n",
       "      <td>0.0</td>\n",
       "      <td>0.0</td>\n",
       "      <td>0.0</td>\n",
       "      <td>0.0</td>\n",
       "      <td>...</td>\n",
       "      <td>0.0</td>\n",
       "      <td>0</td>\n",
       "      <td>1</td>\n",
       "      <td>0</td>\n",
       "      <td>0</td>\n",
       "      <td>0</td>\n",
       "      <td>0</td>\n",
       "      <td>0</td>\n",
       "      <td>0</td>\n",
       "      <td>0</td>\n",
       "    </tr>\n",
       "    <tr>\n",
       "      <th>2</th>\n",
       "      <td>fresh_meat</td>\n",
       "      <td>3</td>\n",
       "      <td>0.0</td>\n",
       "      <td>0.0</td>\n",
       "      <td>0.0</td>\n",
       "      <td>0.0</td>\n",
       "      <td>0.0</td>\n",
       "      <td>0.0</td>\n",
       "      <td>0.0</td>\n",
       "      <td>0.0</td>\n",
       "      <td>...</td>\n",
       "      <td>0.0</td>\n",
       "      <td>0</td>\n",
       "      <td>1</td>\n",
       "      <td>0</td>\n",
       "      <td>0</td>\n",
       "      <td>0</td>\n",
       "      <td>0</td>\n",
       "      <td>0</td>\n",
       "      <td>0</td>\n",
       "      <td>0</td>\n",
       "    </tr>\n",
       "    <tr>\n",
       "      <th>3</th>\n",
       "      <td>fresh_meat</td>\n",
       "      <td>4</td>\n",
       "      <td>0.0</td>\n",
       "      <td>0.0</td>\n",
       "      <td>0.0</td>\n",
       "      <td>0.0</td>\n",
       "      <td>0.0</td>\n",
       "      <td>0.0</td>\n",
       "      <td>0.0</td>\n",
       "      <td>0.0</td>\n",
       "      <td>...</td>\n",
       "      <td>0.0</td>\n",
       "      <td>0</td>\n",
       "      <td>1</td>\n",
       "      <td>0</td>\n",
       "      <td>0</td>\n",
       "      <td>0</td>\n",
       "      <td>0</td>\n",
       "      <td>0</td>\n",
       "      <td>0</td>\n",
       "      <td>0</td>\n",
       "    </tr>\n",
       "    <tr>\n",
       "      <th>4</th>\n",
       "      <td>fresh_meat</td>\n",
       "      <td>5</td>\n",
       "      <td>0.0</td>\n",
       "      <td>0.0</td>\n",
       "      <td>0.0</td>\n",
       "      <td>0.0</td>\n",
       "      <td>0.0</td>\n",
       "      <td>0.0</td>\n",
       "      <td>0.0</td>\n",
       "      <td>0.0</td>\n",
       "      <td>...</td>\n",
       "      <td>0.0</td>\n",
       "      <td>0</td>\n",
       "      <td>1</td>\n",
       "      <td>0</td>\n",
       "      <td>0</td>\n",
       "      <td>0</td>\n",
       "      <td>0</td>\n",
       "      <td>0</td>\n",
       "      <td>0</td>\n",
       "      <td>0</td>\n",
       "    </tr>\n",
       "  </tbody>\n",
       "</table>\n",
       "<p>5 rows × 1615 columns</p>\n",
       "</div>"
      ],
      "text/plain": [
       "    show_name  time_offset  r_abies  r_abyssinian  r_accessories  r_accipiter  \\\n",
       "0  fresh_meat            1      0.0           0.0            0.0          0.0   \n",
       "1  fresh_meat            2      0.0           0.0            0.0          0.0   \n",
       "2  fresh_meat            3      0.0           0.0            0.0          0.0   \n",
       "3  fresh_meat            4      0.0           0.0            0.0          0.0   \n",
       "4  fresh_meat            5      0.0           0.0            0.0          0.0   \n",
       "\n",
       "   r_acorn  r_adapter  r_adorable  r_adventure  ...  r_zoo  h_food_str  \\\n",
       "0      0.0        0.0         0.0          0.0  ...    0.0           0   \n",
       "1      0.0        0.0         0.0          0.0  ...    0.0           0   \n",
       "2      0.0        0.0         0.0          0.0  ...    0.0           0   \n",
       "3      0.0        0.0         0.0          0.0  ...    0.0           0   \n",
       "4      0.0        0.0         0.0          0.0  ...    0.0           0   \n",
       "\n",
       "   show_name_fresh_meat  show_name_friday_night_dinner  show_name_hollyoaks  \\\n",
       "0                     1                              0                    0   \n",
       "1                     1                              0                    0   \n",
       "2                     1                              0                    0   \n",
       "3                     1                              0                    0   \n",
       "4                     1                              0                    0   \n",
       "\n",
       "   show_name_made_in_chelsea  show_name_made_in_chelsea_la  \\\n",
       "0                          0                             0   \n",
       "1                          0                             0   \n",
       "2                          0                             0   \n",
       "3                          0                             0   \n",
       "4                          0                             0   \n",
       "\n",
       "   show_name_my_mad_fat_diary  show_name_peep_show  show_name_the_inbetweeners  \n",
       "0                           0                    0                           0  \n",
       "1                           0                    0                           0  \n",
       "2                           0                    0                           0  \n",
       "3                           0                    0                           0  \n",
       "4                           0                    0                           0  \n",
       "\n",
       "[5 rows x 1615 columns]"
      ]
     },
     "execution_count": 6,
     "metadata": {},
     "output_type": "execute_result"
    }
   ],
   "source": [
    "# One hot encoding of 'show_name' variable\n",
    "df1 = pd.get_dummies(data['show_name'], prefix = 'show_name')\n",
    "data = data.join(df1)\n",
    "data.head()"
   ]
  },
  {
   "cell_type": "markdown",
   "metadata": {},
   "source": [
    "             "
   ]
  },
  {
   "cell_type": "markdown",
   "metadata": {},
   "source": [
    "              "
   ]
  },
  {
   "cell_type": "markdown",
   "metadata": {},
   "source": [
    "           "
   ]
  },
  {
   "cell_type": "markdown",
   "metadata": {},
   "source": [
    "### <span style=\"color:Maroon\">Train-Test Split\n",
    "<span style=\"color:Green\">Divide the data in 70:30 ratio for training the model and validating the model"
   ]
  },
  {
   "cell_type": "code",
   "execution_count": 7,
   "metadata": {},
   "outputs": [],
   "source": [
    "from sklearn.model_selection import train_test_split"
   ]
  },
  {
   "cell_type": "code",
   "execution_count": 8,
   "metadata": {},
   "outputs": [],
   "source": [
    "# Split the data in train and test\n",
    "X_train, X_test, y_train, y_test = train_test_split(data.drop([target],axis=1), data[target], test_size=0.30, \n",
    "                                                    random_state=12345)"
   ]
  },
  {
   "cell_type": "code",
   "execution_count": 9,
   "metadata": {},
   "outputs": [],
   "source": [
    "y_train = y_train.ravel()\n",
    "y_test = y_test.ravel()"
   ]
  },
  {
   "cell_type": "code",
   "execution_count": 10,
   "metadata": {},
   "outputs": [
    {
     "name": "stdout",
     "output_type": "stream",
     "text": [
      "Train Dependent variable: 8.83\n",
      "Test Dependent variable: 8.85\n"
     ]
    }
   ],
   "source": [
    "# Check if the random samples have similar mean\n",
    "print (f\"Train Dependent variable: {np.round(np.mean(y_train)*100,2)}\")\n",
    "print (f\"Test Dependent variable: {np.round(np.mean(y_test)*100,2)}\")"
   ]
  },
  {
   "cell_type": "markdown",
   "metadata": {},
   "source": [
    "<span style=\"color:Blue\">__Comments:__ The means of dependent variable are very similar in test and train dataset"
   ]
  },
  {
   "cell_type": "markdown",
   "metadata": {},
   "source": [
    "### <span style=\"color:Maroon\">Random Forest Model"
   ]
  },
  {
   "cell_type": "markdown",
   "metadata": {},
   "source": [
    "    "
   ]
  },
  {
   "cell_type": "code",
   "execution_count": 11,
   "metadata": {},
   "outputs": [],
   "source": [
    "from sklearn.ensemble import RandomForestClassifier\n",
    "from sklearn.model_selection import GridSearchCV\n",
    "from sklearn.metrics import classification_report\n",
    "from sklearn import metrics\n",
    "import matplotlib.pyplot as plt"
   ]
  },
  {
   "cell_type": "code",
   "execution_count": 12,
   "metadata": {},
   "outputs": [],
   "source": [
    "# Actual data with one hot encoding for show_name\n",
    "data_rf = data.drop([\"show_name\",\"time_offset\"], axis=1)"
   ]
  },
  {
   "cell_type": "markdown",
   "metadata": {},
   "source": [
    "###### <span style=\"color:Maroon\">Variable Reduction using Random Forest:\n",
    "    \n",
    "<span style=\"color:Green\">To select the top N variables, we will use the Random Forest Variable Importance metrics to reduce the variables. The process for the same is: \n",
    "    \n",
    "<span style=\"color:Green\">$\\;\\;\\;\\;\\;\\;$1. Build a RF model with all variables and Number of trees (n_estimators) = 10 X (NumberOfVariables)\n",
    "    \n",
    "<span style=\"color:Green\">$\\;\\;\\;\\;\\;\\;$2. Calculate variable importance for all the variables\n",
    "    \n",
    "<span style=\"color:Green\">$\\;\\;\\;\\;\\;\\;$3. Drop all the variables with Variable Importance == 0 and Combined cumulative importance (Sorted by Importance in descending order) < 0.98\n",
    "    \n",
    "<span style=\"color:Green\">$\\;\\;\\;\\;\\;\\;$4. Repeat the steps 1 to 3, till RF can no longer drop any variable based on variable Importance\n",
    "        \n",
    "For more details on \"variable importance metrics\" for Random Forest, please refer the below link:       https://www.displayr.com/how-is-variable-importance-calculated-for-a-random-forest/"
   ]
  },
  {
   "cell_type": "code",
   "execution_count": 13,
   "metadata": {},
   "outputs": [],
   "source": [
    "# Variable reduction using random forest\n",
    "def varred_rf(X, y, independent_vars):\n",
    "    X_reduce = X[independent_vars]\n",
    "    # Number of trees = 10 x number of variables\n",
    "    ntrees = min(1000, 10*len(independent_vars))\n",
    "    clf = RandomForestClassifier(n_estimators=ntrees, criterion='gini', min_samples_split=10, \n",
    "                                 max_features='sqrt', n_jobs=-1, random_state=12345)\n",
    "    clf.fit(X_reduce,y)\n",
    "    VarSel = pd.DataFrame(independent_vars)\n",
    "    VarSel.columns = [\"Variables\"]\n",
    "    VarSel[\"Importance\"] = (clf.feature_importances_)\n",
    "    VarSel = VarSel[VarSel[\"Importance\"]>0.0001]\n",
    "    VarSel = VarSel.sort_values(by=\"Importance\", ascending = False)\n",
    "    VarSel[\"Cumulative Importance\"] = VarSel[\"Importance\"].cumsum()\n",
    "    VarSel = VarSel[VarSel[\"Cumulative Importance\"] <= 0.98]\n",
    "    return list(VarSel[\"Variables\"])"
   ]
  },
  {
   "cell_type": "markdown",
   "metadata": {},
   "source": [
    "<span style=\"color:Blue\">__Comment:__ As the number of independent variales is really high, we shall drop all variables which fail the chi square test of independence at relaxed value of 0.10"
   ]
  },
  {
   "cell_type": "code",
   "execution_count": 14,
   "metadata": {},
   "outputs": [],
   "source": [
    "# Split the data in train and test\n",
    "data_X = data_rf.drop(target, axis=1)\n",
    "X_train, X_test, y_train, y_test = train_test_split(data_X, data_rf[target], test_size=0.30, random_state=12345)"
   ]
  },
  {
   "cell_type": "code",
   "execution_count": 15,
   "metadata": {},
   "outputs": [
    {
     "name": "stdout",
     "output_type": "stream",
     "text": [
      "354 independent variables left\n",
      "273 independent variables left\n",
      "232 independent variables left\n",
      "202 independent variables left\n",
      "179 independent variables left\n",
      "160 independent variables left\n"
     ]
    }
   ],
   "source": [
    "# Variable reduction using random forest\n",
    "independent_vars = list(X_train.columns)\n",
    "flag_stop = True\n",
    "\n",
    "while(flag_stop):\n",
    "    bf_len = len(independent_vars)\n",
    "    independent_vars = varred_rf(X_train,y_train, independent_vars)\n",
    "    print(\"{} independent variables left\".format(len(independent_vars)))\n",
    "    if(bf_len <= 200):\n",
    "        flag_stop=False"
   ]
  },
  {
   "cell_type": "code",
   "execution_count": 16,
   "metadata": {},
   "outputs": [
    {
     "name": "stdout",
     "output_type": "stream",
     "text": [
      "Top 160 variables were selected\n"
     ]
    }
   ],
   "source": [
    "X_train_rf = X_train[independent_vars]\n",
    "X_test_rf = X_test[independent_vars]\n",
    "print (\"Top {} variables were selected\".format(len(independent_vars)))"
   ]
  },
  {
   "cell_type": "code",
   "execution_count": 17,
   "metadata": {},
   "outputs": [],
   "source": [
    "# Doing a random grid search to select the best Random Forest Model\n",
    "from sklearn.model_selection import RandomizedSearchCV\n",
    "\n",
    "# Declare the hyper-parameters for grid search\n",
    "n_estimators = [int(x) for x in np.linspace(start = 200, stop = 2000, num = 10)]\n",
    "max_features = ['auto', 'sqrt']\n",
    "max_depth = [int(x) for x in np.linspace(10, 110, num = 11)]\n",
    "min_samples_split = [2, 5, 10]\n",
    "min_samples_leaf = [2, 4]\n",
    "bootstrap = [True, False]"
   ]
  },
  {
   "cell_type": "code",
   "execution_count": 18,
   "metadata": {},
   "outputs": [],
   "source": [
    "# Random grid ***(Total 10*2*12*3*3*2) = 4320 models will be built ***\n",
    "random_grid = {'n_estimators': n_estimators,\n",
    "               'max_features': max_features,\n",
    "               'max_depth': max_depth,\n",
    "               'min_samples_split': min_samples_split,\n",
    "               'min_samples_leaf': min_samples_leaf,\n",
    "               'bootstrap': bootstrap}"
   ]
  },
  {
   "cell_type": "code",
   "execution_count": 19,
   "metadata": {},
   "outputs": [
    {
     "name": "stdout",
     "output_type": "stream",
     "text": [
      "Fitting 3 folds for each of 100 candidates, totalling 300 fits\n"
     ]
    },
    {
     "name": "stderr",
     "output_type": "stream",
     "text": [
      "[Parallel(n_jobs=-1)]: Using backend LokyBackend with 8 concurrent workers.\n",
      "[Parallel(n_jobs=-1)]: Done  25 tasks      | elapsed:  2.1min\n",
      "[Parallel(n_jobs=-1)]: Done 146 tasks      | elapsed: 10.5min\n",
      "[Parallel(n_jobs=-1)]: Done 300 out of 300 | elapsed: 21.1min finished\n"
     ]
    },
    {
     "data": {
      "text/plain": [
       "RandomizedSearchCV(cv=3, error_score=nan,\n",
       "                   estimator=RandomForestClassifier(bootstrap=True,\n",
       "                                                    ccp_alpha=0.0,\n",
       "                                                    class_weight=None,\n",
       "                                                    criterion='gini',\n",
       "                                                    max_depth=None,\n",
       "                                                    max_features='auto',\n",
       "                                                    max_leaf_nodes=None,\n",
       "                                                    max_samples=None,\n",
       "                                                    min_impurity_decrease=0.0,\n",
       "                                                    min_impurity_split=None,\n",
       "                                                    min_samples_leaf=1,\n",
       "                                                    min_samples_split=2,\n",
       "                                                    min_weight_fraction_leaf=0.0,\n",
       "                                                    n_estimators=100,\n",
       "                                                    n_jobs...\n",
       "                   iid='deprecated', n_iter=100, n_jobs=-1,\n",
       "                   param_distributions={'bootstrap': [True, False],\n",
       "                                        'max_depth': [10, 20, 30, 40, 50, 60,\n",
       "                                                      70, 80, 90, 100, 110],\n",
       "                                        'max_features': ['auto', 'sqrt'],\n",
       "                                        'min_samples_leaf': [2, 4],\n",
       "                                        'min_samples_split': [2, 5, 10],\n",
       "                                        'n_estimators': [200, 400, 600, 800,\n",
       "                                                         1000, 1200, 1400, 1600,\n",
       "                                                         1800, 2000]},\n",
       "                   pre_dispatch='2*n_jobs', random_state=42, refit=True,\n",
       "                   return_train_score=False, scoring=None, verbose=2)"
      ]
     },
     "execution_count": 19,
     "metadata": {},
     "output_type": "execute_result"
    }
   ],
   "source": [
    "# RF Model\n",
    "rf = RandomForestClassifier()\n",
    "rf_random = RandomizedSearchCV(estimator = rf, param_distributions = random_grid, n_iter = 100, cv = 3,\n",
    "                               verbose=2, random_state=42, n_jobs = -1)\n",
    "# Fit the random search model\n",
    "rf_random.fit(X_train_rf, y_train)"
   ]
  },
  {
   "cell_type": "code",
   "execution_count": 20,
   "metadata": {},
   "outputs": [
    {
     "data": {
      "text/plain": [
       "RandomForestClassifier(bootstrap=False, ccp_alpha=0.0, class_weight=None,\n",
       "                       criterion='gini', max_depth=50, max_features='sqrt',\n",
       "                       max_leaf_nodes=None, max_samples=None,\n",
       "                       min_impurity_decrease=0.0, min_impurity_split=None,\n",
       "                       min_samples_leaf=2, min_samples_split=5,\n",
       "                       min_weight_fraction_leaf=0.0, n_estimators=1400,\n",
       "                       n_jobs=None, oob_score=False, random_state=None,\n",
       "                       verbose=0, warm_start=False)"
      ]
     },
     "execution_count": 20,
     "metadata": {},
     "output_type": "execute_result"
    }
   ],
   "source": [
    "best_random = rf_random.best_estimator_\n",
    "best_random"
   ]
  },
  {
   "cell_type": "code",
   "execution_count": 21,
   "metadata": {},
   "outputs": [],
   "source": [
    "# RF model selected using Grid search\n",
    "clf = best_random"
   ]
  },
  {
   "cell_type": "code",
   "execution_count": 22,
   "metadata": {},
   "outputs": [],
   "source": [
    "os.chdir(\"..//Images//\")"
   ]
  },
  {
   "cell_type": "code",
   "execution_count": 23,
   "metadata": {},
   "outputs": [
    {
     "data": {
      "image/png": "[encoded data removed]",
      "text/plain": [
       "<Figure size 576x360 with 1 Axes>"
      ]
     },
     "metadata": {
      "needs_background": "light"
     },
     "output_type": "display_data"
    }
   ],
   "source": [
    "y_hat_test = clf.predict_proba(X_test_rf)\n",
    "precision, recall, threshold = metrics.precision_recall_curve(y_test, y_hat_test[:,1])\n",
    "f1_score = 2*precision*recall/(precision + recall)\n",
    "threshold = np.hstack((0, threshold))\n",
    "plt.figure(figsize=(8,5))\n",
    "plt.plot(threshold, precision)\n",
    "plt.plot(threshold, recall)\n",
    "plt.plot(threshold, f1_score)\n",
    "plt.xlabel('threshold', fontsize=14)\n",
    "plt.title(\"Train Sample\", fontsize=18)\n",
    "plt.legend(['precision', 'recall', '$F_1$'])\n",
    "plt.savefig(\"Train_RF_Precision_Recall_F1.png\")\n",
    "plt.show()"
   ]
  },
  {
   "cell_type": "code",
   "execution_count": 24,
   "metadata": {},
   "outputs": [
    {
     "name": "stdout",
     "output_type": "stream",
     "text": [
      "+++++++++++++++++++++++++++++++++++++++++++++++++++++\n",
      "\n",
      "Performance Metrics for Training Sample\n",
      "              precision    recall  f1-score   support\n",
      "\n",
      "           0       0.99      0.96      0.98     10573\n",
      "           1       0.69      0.94      0.79      1024\n",
      "\n",
      "    accuracy                           0.96     11597\n",
      "   macro avg       0.84      0.95      0.89     11597\n",
      "weighted avg       0.97      0.96      0.96     11597\n",
      "\n",
      "+++++++++++++++++++++++++++++++++++++++++++++++++++++\n",
      "\n",
      "Confusion Matrix\n",
      "\n",
      "Predicted      0    1\n",
      "Actual               \n",
      "0          10142  431\n",
      "1             65  959\n"
     ]
    }
   ],
   "source": [
    "y_hat = clf.predict_proba(X_train_rf)\n",
    "# Find the optimum threshold on propensity to tag class as 1 or 0\n",
    "fpr, tpr, thresholds = metrics.roc_curve(y_train, y_hat[:,1])\n",
    "y_train_out = np.where(y_hat[:,1] > thresholds[np.argmax(tpr - fpr)],1,0)\n",
    "# Performance metrics of the model\n",
    "\n",
    "print(\"+++++++++++++++++++++++++++++++++++++++++++++++++++++\\n\")\n",
    "print(\"Performance Metrics for Training Sample\")\n",
    "print(classification_report(y_train, y_train_out))\n",
    "\n",
    "tmp = pd.DataFrame(y_train)\n",
    "tmp.columns = [\"Actual\"]\n",
    "tmp[\"Predicted\"] = y_train_out\n",
    "print(\"+++++++++++++++++++++++++++++++++++++++++++++++++++++\")\n",
    "print(\"\\nConfusion Matrix\\n\")\n",
    "print(pd.crosstab(tmp[\"Actual\"],tmp[\"Predicted\"]))"
   ]
  },
  {
   "cell_type": "code",
   "execution_count": 25,
   "metadata": {},
   "outputs": [
    {
     "name": "stdout",
     "output_type": "stream",
     "text": [
      "+++++++++++++++++++++++++++++++++++++++++++++++++++++\n",
      "\n",
      "Performance Metrics for Training Sample\n",
      "              precision    recall  f1-score   support\n",
      "\n",
      "           0       0.98      0.95      0.96      4531\n",
      "           1       0.59      0.80      0.67       440\n",
      "\n",
      "    accuracy                           0.93      4971\n",
      "   macro avg       0.78      0.87      0.82      4971\n",
      "weighted avg       0.94      0.93      0.94      4971\n",
      "\n",
      "+++++++++++++++++++++++++++++++++++++++++++++++++++++\n",
      "\n",
      "Confusion Matrix\n",
      "\n",
      "Predicted     0    1\n",
      "Actual              \n",
      "0          4283  248\n",
      "1            90  350\n"
     ]
    }
   ],
   "source": [
    "# Scoring test data and analyzing performance\n",
    "y_hat = clf.predict_proba(X_test_rf)\n",
    "y_test_out = np.where(y_hat[:,1] > thresholds[np.argmax(tpr - fpr)],1,0)\n",
    "# Performance metrics of the model\n",
    "\n",
    "print(\"+++++++++++++++++++++++++++++++++++++++++++++++++++++\\n\")\n",
    "print(\"Performance Metrics for Training Sample\")\n",
    "print(classification_report(y_test, y_test_out))\n",
    "\n",
    "tmp = pd.DataFrame(y_test)\n",
    "tmp.columns = [\"Actual\"]\n",
    "tmp[\"Predicted\"] = y_test_out\n",
    "print(\"+++++++++++++++++++++++++++++++++++++++++++++++++++++\")\n",
    "print(\"\\nConfusion Matrix\\n\")\n",
    "print(pd.crosstab(tmp[\"Actual\"],tmp[\"Predicted\"]))"
   ]
  },
  {
   "cell_type": "code",
   "execution_count": 26,
   "metadata": {},
   "outputs": [
    {
     "data": {
      "image/png": "[encoded data removed]",
      "text/plain": [
       "<Figure size 1440x360 with 1 Axes>"
      ]
     },
     "metadata": {
      "needs_background": "light"
     },
     "output_type": "display_data"
    }
   ],
   "source": [
    "# Plot Variable Importance of the features in the final Model (for top cumulative contribution of 90%)\n",
    "clf = best_random\n",
    "plt.rcParams['figure.figsize'] = [20, 5]\n",
    "variable_importance = clf.feature_importances_\n",
    "variables = list(X_train_rf.columns)\n",
    "importance = pd.DataFrame(variables)\n",
    "importance.columns = [\"Variables\"]\n",
    "importance[\"Importance\"] = variable_importance\n",
    "importance = importance.sort_values(\"Importance\", ascending = False)\n",
    "importance[\"cum_imp\"] = importance[\"Importance\"].cumsum()\n",
    "importance = importance[importance[\"cum_imp\"] <= 0.8]\n",
    "plt.bar(importance[\"Variables\"], importance[\"Importance\"])\n",
    "plt.xlabel(\"Variable\", fontsize=14)\n",
    "plt.ylabel(\"Importance\", fontsize=14)\n",
    "plt.title(\"Variable Importance for RF Model\", fontsize=18) \n",
    "plt.xticks(rotation=90)\n",
    "plt.savefig(\"VariableImportance_RF_Train.png\")\n",
    "plt.show()"
   ]
  },
  {
   "cell_type": "markdown",
   "metadata": {},
   "source": [
    "<span style=\"color:Blue\">__Comments:__ The random forest model does really well, compared to the Naive classifer and logistic regression on all metrics. It has an accuracy of 93% on test sample, a recall of 79% and precision of 59%. "
   ]
  },
  {
   "cell_type": "markdown",
   "metadata": {},
   "source": [
    "             "
   ]
  },
  {
   "cell_type": "markdown",
   "metadata": {},
   "source": [
    "               "
   ]
  }
 ],
 "metadata": {
  "kernelspec": {
   "display_name": "Python 3",
   "language": "python",
   "name": "python3"
  },
  "language_info": {
   "codemirror_mode": {
    "name": "ipython",
    "version": 3
   },
   "file_extension": ".py",
   "mimetype": "text/x-python",
   "name": "python",
   "nbconvert_exporter": "python",
   "pygments_lexer": "ipython3",
   "version": "3.7.6"
  }
 },
 "nbformat": 4,
 "nbformat_minor": 2
}
